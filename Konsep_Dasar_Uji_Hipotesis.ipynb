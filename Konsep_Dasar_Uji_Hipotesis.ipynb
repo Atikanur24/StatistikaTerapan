{
  "nbformat": 4,
  "nbformat_minor": 0,
  "metadata": {
    "colab": {
      "name": "Konsep Dasar Uji Hipotesis.ipynb",
      "version": "0.3.2",
      "provenance": [],
      "collapsed_sections": [],
      "include_colab_link": true
    },
    "kernelspec": {
      "name": "python3",
      "display_name": "Python 3"
    }
  },
  "cells": [
    {
      "cell_type": "markdown",
      "metadata": {
        "id": "view-in-github",
        "colab_type": "text"
      },
      "source": [
        "<a href=\"https://colab.research.google.com/github/yogjay/StatistikaTerapan/blob/master/Konsep_Dasar_Uji_Hipotesis.ipynb\" target=\"_parent\"><img src=\"https://colab.research.google.com/assets/colab-badge.svg\" alt=\"Open In Colab\"/></a>"
      ]
    },
    {
      "metadata": {
        "id": "u5PnwdWGkC6d",
        "colab_type": "text"
      },
      "cell_type": "markdown",
      "source": [
        "## **KONSEP DASAR UJI HIPOTESIS**"
      ]
    },
    {
      "metadata": {
        "id": "y-e-e5NtkJ4f",
        "colab_type": "text"
      },
      "cell_type": "markdown",
      "source": [
        "Menurut Sugiyono dalam bukunya, hipotesis ditinjau dari 2 sudut pandang, yakni **hipotesis dalam statistik** dan **hipotesis dalam penelitian**. Dari sudut pandang **statistik,** hipotesis adalah *taksiran terhadap parameter populasi, melalui data-data sampel*. Sedangkan dari sudut pandang penelitian, hipotesis adalah *jawaban sementara terhadap rumusan masalah penelitian*. Rumusan masalah bisa berupa pernyataan tentang hubungan dua variabel atau lebih, perbandingan (komparasi), atau variabel mandiri (deskripsi).<br>\n",
        "Dalam statistik dan penelitian terdapat dua macam hipotesis, yaitu hipotesis nol dan hipotesis alternatif.<br>\n",
        "Pada statistik,** hipotesis nol** diartikan sebagai **tidak adanya** perbedaan antara **parameter** dengan **statistik**, atau **tidak ada perbedaan** antara **ukuran populasi** dan **ukuran sampel**. Dengan demikian, hipotesis yang diuji adalah hipotesis nol. **Hipotesis alternatif** adalah **lawan** dari hipotesis nol, yang berbunyi adanya perbedaan antara data populasi dengan data sampel.<br>\n",
        "Pada penelitian, hipotesis nol juga menyatakan \"tidak ada\", tetapi bukan tidak adanya perbedaan antara populasi dan sampel, tetapi bisa berbentuk tidak adanya hubungan antara satu variabel dengan variabel lain, tidak adanya perbedaan antara satu variabel atau lebih pada populasi / sampel yang berbeda, dan tidak adanya perbedaan antara yang diharapkan dengan kenyataan pada satu variabel atau lebih untuk populasi atau sampel yang sama.\n"
      ]
    },
    {
      "metadata": {
        "id": "9NlLznB6HdcJ",
        "colab_type": "text"
      },
      "cell_type": "markdown",
      "source": [
        "## **Tiga Bentuk Rumusan Hipotetsis**"
      ]
    },
    {
      "metadata": {
        "id": "LJOVrMVbHkdI",
        "colab_type": "text"
      },
      "cell_type": "markdown",
      "source": [
        "Menurut Sugiyono, rumusan hipotesis dibagi menjadi 3 bentuk, yakni hipotesis deskriptif, komparatif dan hubungan. Penjelasan masing-masing bentuk hipotesis adalah sebagai berikut:"
      ]
    },
    {
      "metadata": {
        "id": "8sqTSmKqwESM",
        "colab_type": "text"
      },
      "cell_type": "markdown",
      "source": [
        "### **1. Hipotesis Deskriptif**"
      ]
    },
    {
      "metadata": {
        "id": "I1-IDbQlxuxX",
        "colab_type": "text"
      },
      "cell_type": "markdown",
      "source": [
        "Hipotesis deskriptif adalah dugaan tentang nilai suatu variabel mandiri, tidak membandingkan dengan variabel lain, ataupu mencari hubungan dengan variabel lain. Sebagai contoh, bila **rumusan masalah penelitian** adalah sebagai berikut, maka hipotesis (jawaban sementara) yang dirumuskan adalah hipotesis deskriptif. Contoh:<br>\n",
        "\n",
        "*   Seberapa tinggi daya tahan lampu merek X?\n",
        "*   Berapa lama daya tahan lampu A dan lampu B?\n",
        "*   Seberapa baik tingkat loyalitas karyawan di perusahaan A?\n",
        "\n",
        "Dari tiga rumusan masalah di atas, dapat dirumuskan hipotesis sebagai berikut:\n",
        "\n",
        "\n",
        "*   Daya tahan lampu merk X = 800 jam\n",
        "*   Daya tahan lampu A = 450 jam dan daya tahan lampu B = 500 jam\n",
        "*   Tingkat loyalitas karyawan di perusahaan A telah mencapai 80% dari yang diharapkan.\n",
        "\n",
        "\n",
        "Untuk **hipotesis dalam statistik**, hipotesis nol disimbolkan dengan Ho, dan lawannya yakni hipotesis alternatif disimbolkan dengan Ha. Jika Ho diterima, maka Ha ditolak, begitu juga sebaliknya. <br>\n",
        "Berikut ini adalah contoh pernyataan yang dapat dirumuskan hipotesis deskriptif-statistiknya:<br>\n",
        "\n",
        "1.   Suatu perusahaan minuman harus mengikuti ketentuan, bahwa salah satu unsur kimia hanya boleh dicampurkan paling banyak 1%. (paling banyak berarti lebih kecil atau sama dengan $\\leq$). Dengan demikian rumusan hipotesis statistiknya adalah:<br>\n",
        "Ho : $\\color{fuchsia} {\\mu}$ $\\leq$0,01 (lebih kecil atau sama dengan)<br>\n",
        "Ha : $\\color{fuchsia} {\\mu}$ > 0,01 (lebih besar) <br>\n",
        "Dapat dibaca: Hipotesis nol untuk parameter populasi berbentuk proporsi (1%: proporsi) lebih kecil atau sama dengan 1%, dan hipotesis alternatifnya, untuk populasi yang berbentuk proporsi lebih besar dari 1%.\n",
        "2.   Suatu bimbingan tes menyatakan bahwa murid yang dibimbing di lembaga itu, paling sedikit 90% dapat diterima di perguruan tinggi negeri. Rumusan hipotesis statistiknya adalah:<br>\n",
        "Ho : $\\color{fuchsia} {\\mu}$ $\\geq$0,09 (lebih besaratau sama dengan)<br>\n",
        "Ha : $\\color{fuchsia} {\\mu}$ < 0,90 (lebih kecil) <br>\n",
        "3.   Seorang peneliti menyatakan bahwa daya tahan lampu merk A =450 jam dan B=600 jam. Hipotesisnya adalah: <br>\n",
        "Lampu A:<br>\n",
        "Ho : $\\color{fuchsia} {\\mu}$ = 450 jam<br>\n",
        "Ha : $\\color{fuchsia} {\\mu}$ $\\neq$ 450 jam<br>\n",
        "Lampu B:<br>\n",
        "Ho : $\\color{fuchsia} {\\mu}$ = 600 jam<br>\n",
        "Ha : $\\color{fuchsia} {\\mu}$ $\\neq$ 600 jam<br>\n",
        "\n",
        "Harga $\\mu$ dapat diganti dengan nilai rata-rata sampel, simpangan baku atau varians. Hipotesis pertama dan kedua diuji dengan uji satu pihak (*one tail test*), sedangkan hipotesis ketiga menggunakan uji dua pihak (*two tail test*).\n",
        "\n",
        "\n",
        "\n",
        "\n",
        "\n",
        "\n",
        "\n",
        "\n",
        "\n",
        "\n",
        "\n"
      ]
    },
    {
      "metadata": {
        "id": "acCPHa0FwKf-",
        "colab_type": "text"
      },
      "cell_type": "markdown",
      "source": [
        "### **2. Hipotesis Komparatif**"
      ]
    },
    {
      "metadata": {
        "id": "pIsOs256wfSg",
        "colab_type": "text"
      },
      "cell_type": "markdown",
      "source": [
        "Hipotesis komparatif merupakan pernyataan yang menunjukkan dugaan nilai dalam satu variabel atau lebih pada sampel yang berbeda. Contoh rumusan masalah komparatif adalah:<br>\n",
        "\n",
        "1.   Apakah ada perbedaan daya tahan lampu merk A dan B?<br>\n",
        "2.   Apakah ada perbedaan produktivitas kerja antara pegawai golongan I, II, III?<br>\n",
        "\n",
        "Rumusan Hipotesis untuk **kasus 1** adalah:<br>\n",
        "\n",
        "1.   Tidak terdapat perbedaan daya tahan lampu antara lampu merk A dan B\n",
        "2.   Daya tahan lampu merk B paling kecil sama dengan lampu merk A\n",
        "3.   Daya tahan lampu merk B paling besar sama dengan lampu merk A\n",
        "\n",
        "Hipotesis statistik untuk **kasus 1** adalah: <br>\n",
        "\n",
        "1.   Ho : $\\mu_{1}$=$\\mu_{2}$<br>Ha : $\\mu_{1}$ $\\neq$ $\\mu_{2}$<br>(Rumusan uji hipotesis dua pihak)\n",
        "\n",
        "2.   Ho : $\\mu_{1}$ $\\geq$ $\\mu_{2}$<br>Ha : $\\mu_{1}$ < $\\mu_{2}$<br>(Rumusan uji hipotesis satu pihak)\n",
        "\n",
        "3.   Ho : $\\mu_{1}$ $\\leq$ $\\mu_{2}$<br>Ha : $\\mu_{1}$ > $\\mu_{2}$<br>(Rumusan uji hipotesis satu pihak)\n",
        "\n",
        "\n",
        "Rumusan Hipotesis untuk **kasus 2** adalah:<br>\n",
        "Tidak terdapat perbedaan (ada persamaan) produktivitas kerja antara Golongan I, II, III<br>\n",
        "\n",
        "Hipotesis statistik dari **kasus 2** adalah:<br>\n",
        "Ho : $\\mu_{1}$=$\\mu_{2}$=$\\mu_{3}$<br>Ha : $\\mu_{1}$ $\\neq$ $\\mu_{2}$=$\\mu_{3}$ <br> (Salah satu berbeda sudah merupakan Ha)\n",
        "\n",
        "\n",
        "\n",
        "\n",
        "\n",
        "\n",
        "\n",
        "\n"
      ]
    },
    {
      "metadata": {
        "id": "uBClv_y0wPVQ",
        "colab_type": "text"
      },
      "cell_type": "markdown",
      "source": [
        "### **3. Hipotesis Hubungan (Asosiatif)**"
      ]
    },
    {
      "metadata": {
        "id": "L12sWeUawUaB",
        "colab_type": "text"
      },
      "cell_type": "markdown",
      "source": [
        "Hipotesis Asosiatif adalah suatu pernyataan yang menunjukkan dugaan tentang hubungan antara dua variabel atau lebih. Misalnya terdapat sebuah rumusan masalah:<br>\n",
        "\"Apakah ada hubungan antara Gaya Kepemimpinan dengan Efektivitas Kerja?\". <br>\n",
        "Rumus dan hipotesis nolnya adalah:<br>\n",
        "Tidak ada hubungan antara gaya kepemimpinan dengan efektivitas kerja.<br>\n",
        "Hipotesis statistiknya adalah:<br>\n",
        "Ho : $\\rho$ = 0<br>Ha : $\\rho$ $\\neq$ 0 <br> ($\\rho$ merupakan simbol yang menunjukkan kuatnya hubungan)<br>\n",
        "\n",
        "Dapat dibaca:<br>\n",
        "Hipotesis nol, yang menunjukkan tidak adanya hubungan (nol = tidak ada hubungan) antara Gaya Kepemimpinan dengan Efektivitas Kerja dalam populasi. Hipotesis alternatifnya menunjukkan ada hubungan (tidak sama dengan 0, mungkin lebih besar atau lebih kecil dari 0)\n"
      ]
    },
    {
      "metadata": {
        "id": "_YLGUnfkK1HL",
        "colab_type": "text"
      },
      "cell_type": "markdown",
      "source": [
        "## **Langkah-langkah Uji Hipotesis**"
      ]
    },
    {
      "metadata": {
        "id": "FkHJMOo_jBtz",
        "colab_type": "text"
      },
      "cell_type": "markdown",
      "source": [
        "![Langkah Uji Hipotesis](http://farm8.staticflickr.com/7876/47423862381_eff3e64254_b.jpg)"
      ]
    },
    {
      "metadata": {
        "id": "aUX6A1qykkPG",
        "colab_type": "text"
      },
      "cell_type": "markdown",
      "source": [
        "**Langkah 1: Membuat Hipotesis Nol dan Hipotesis Alternatif**<br>\n",
        "Hipotesis nol (the null hypothesis) H0 adalah hipotesis yang akan diuji kebenarannya. \n",
        "Hipotesis alternatif (alternate hypothesis) Ha adalah suatu pernyataan yang akan kita simpulkan jika kita menolak hipotesis nol. Hipotesis alternatif  disebut hipotesis penelitian (research hypothesis). \n",
        "Misalnya rata-rata harga tiket pesawat terbang Yogyakarta – Jakarta 480.000 \n",
        "\tH0 :  = 480.000 \n",
        "\tHa :    480.000 \n",
        "<br>\n",
        "\n",
        "**Langkah 2: Memilih Derajat Keyakinan**<br>\n",
        " (alpha) adalah probabilitas menolak hipotesis nol jika itu benar. Atau disebut tingkat resiko (the level of risk).\n",
        "Biasanya =1%, = 5% dan =10%. <br>\n",
        "\n",
        "**Langkah 3: Memilih Uji Statistik** <br>\n",
        "Ada beberapa uji statistik yang bisa digunakan untuk membuktikan hipotesis nol yaitu uji Z, t, F dan chi squares. <br>\n",
        "\n",
        "**Langkah 4: Tolak atau Terima H0** <br>\n",
        "Selanjutnya nilai perhitungan sesuai rumus, dibandingkan dengan nilai tabel. Disesuaikan dengan ketentuan yang berlaku, untuk menolak atau menerima H0\n"
      ]
    }
  ]
}