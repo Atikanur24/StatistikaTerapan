{
  "nbformat": 4,
  "nbformat_minor": 0,
  "metadata": {
    "colab": {
      "name": "Populasi Sampel.ipynb",
      "version": "0.3.2",
      "provenance": [],
      "collapsed_sections": [],
      "include_colab_link": true
    },
    "kernelspec": {
      "name": "python3",
      "display_name": "Python 3"
    }
  },
  "cells": [
    {
      "cell_type": "markdown",
      "metadata": {
        "id": "view-in-github",
        "colab_type": "text"
      },
      "source": [
        "<a href=\"https://colab.research.google.com/github/yogjay/StatistikaTerapan/blob/master/Populasi_Sampel.ipynb\" target=\"_parent\"><img src=\"https://colab.research.google.com/assets/colab-badge.svg\" alt=\"Open In Colab\"/></a>"
      ]
    },
    {
      "metadata": {
        "id": "pOeuzXQcX49h",
        "colab_type": "code",
        "colab": {}
      },
      "cell_type": "code",
      "source": [
        ""
      ],
      "execution_count": 0,
      "outputs": []
    },
    {
      "metadata": {
        "id": "mELsxmE1X6Pv",
        "colab_type": "text"
      },
      "cell_type": "markdown",
      "source": [
        "# **POPULASI DAN SAMPEL**"
      ]
    },
    {
      "metadata": {
        "id": "Xs2rEj7tYBGk",
        "colab_type": "text"
      },
      "cell_type": "markdown",
      "source": [
        "## **Populasi**"
      ]
    },
    {
      "metadata": {
        "id": "N1UPKdUnYFT7",
        "colab_type": "text"
      },
      "cell_type": "markdown",
      "source": [
        "**Populasi** adalah wilayah generalisasi yang terdiri atas: obyek/subyek yang mempunyai kuantitas dan karakteristik tertentu yang ditetapkan oleh peneliti untuk dipelajari dan kemudian ditarik kesimpulannya. (Sugiyono)\n",
        "Atau dengan kata lain, populasi adalah semua unit atau obyek yang diteliti atau dianalisa dalam penelitian yang kita lakukan. Populasi tidak hanya sekedar jumlah dari obyek/subyek yang diteliti atau dipelajari, namun meliputi seluruh karakteristik/sifat yang dimiliki oleh obyek/subyek tersebut. "
      ]
    },
    {
      "metadata": {
        "id": "DhgOhPnHZusd",
        "colab_type": "text"
      },
      "cell_type": "markdown",
      "source": [
        "Contoh:\n",
        "1.   Dilakukan penelitian di sekolah X, maka sekolah X memiliki populasi yang bisa berupa jumlah subyek/orang. Pengertian pertama, memberi makna bahwa populasi merupakan sekumpulan orang/subyek dan obyek yang diamati. Pengertian kedua memberikan petunjuk bahwa orang-orang di sekolah X mempunyai karakteristik, misal motivasi kerjanya, disiplin kerjanya, disiplin kerjanya dll. Sekolah juga memilik karakteristik lain, seperti kebijakannya, prosedur kerjanya, lulusan  yang dihasilkan dll.\n",
        "2.   Dalam bidang kedokteran, satu orang sering bertindak sebagi populasi. Darah yang ada pada setiap orang adalah populasi, kalau akan diperiksa cukup diambil sebagian darahnya yang berupa sampel. Data yang diteliti dari sampel darah tersebut, selanjutnya diberlakukan ke seluruh darah yang dimiliki orang tersebut.\n",
        "\n"
      ]
    },
    {
      "metadata": {
        "id": "WIrHAWqhYzxY",
        "colab_type": "text"
      },
      "cell_type": "markdown",
      "source": [
        "## **Sampel**"
      ]
    },
    {
      "metadata": {
        "id": "An5-cuMnc4vZ",
        "colab_type": "text"
      },
      "cell_type": "markdown",
      "source": [
        "**Sampel** adalah bagian dari jumlah dan karakteristik yang dimiliki oleh populasi. Bila populasi besar, dan peneliti tidak mungkin mempelajari semua yang ada pada populasi, misalnya karena keterbatasan dana, tenaga dan waktu, maka peneliti dapat menggunakan sampel yang diambil dari populasi tersebut. Apa yang dipelajari dari sampel, kesimpulannya akan diberlakukan untuk populasi. Sehingga, sampel yang diambil dari populasi harus representatif. "
      ]
    },
    {
      "metadata": {
        "id": "ZOJf_-LygWRt",
        "colab_type": "text"
      },
      "cell_type": "markdown",
      "source": [
        "Contoh:\n",
        "\n",
        "1.   Dalam data set kambing di peternakan, 100 kambing menjadi sampel. Populasinya adalah seluruh kambing yang ada pada peternakan tersebut\n",
        "2.   Pada populasi tanaman anggrek yang tumbuh di pedalaman hutan Kalimantan, diambil sampel sebanyak 10 tanaman anggrek\n",
        "3.   Terdapat 25 penduduk laki-laki dijadikan sampel untuk mengisi quesioner tentang lamanya tidur dalam satu hari. Dimana populasinya adalah seluruh penduduk laki-laki di Kelurahan Lowokwaru, Kecamatan Lowokwaru, Kotamadya Malang\n",
        "\n",
        "\n",
        "\n"
      ]
    },
    {
      "metadata": {
        "id": "ehHO_Uqsi2Qo",
        "colab_type": "text"
      },
      "cell_type": "markdown",
      "source": [
        "## **Teknik Sampling**"
      ]
    },
    {
      "metadata": {
        "id": "Ik_LUf1kjAe3",
        "colab_type": "text"
      },
      "cell_type": "markdown",
      "source": [
        "Cara pengambilan sampel pada suatu populasi disebut dengan **teknik sampling**. Terdapat dua macam teknik, yakni **Probability Sampling** dan **NonProbability Sampling**"
      ]
    },
    {
      "metadata": {
        "id": "ZCKjCjwijfot",
        "colab_type": "text"
      },
      "cell_type": "markdown",
      "source": [
        "Probability sampling:\n",
        "1.   Sample random sampling\n",
        "2.   Proportionate stratified random sampling\n",
        "3.   Disproportionate stratified random sampling\n",
        "4.   Area (cluster) sampling (sampling menurut daerah)\n",
        "\n",
        "Non probability sampling:\n",
        "1.   Sampling sistematis\n",
        "2.   Sampling kuota\n",
        "3.   Sampling insidental\n",
        "4.   Purposive sampling\n",
        "5.   Sampling total\n",
        "6.   Snowball sampling\n",
        "\n",
        "\n",
        "\n",
        "\n",
        "\n"
      ]
    },
    {
      "metadata": {
        "id": "WYK9VrtSmsCr",
        "colab_type": "text"
      },
      "cell_type": "markdown",
      "source": [
        "## **Probability Sampling**"
      ]
    },
    {
      "metadata": {
        "id": "NUHWtZhK1QUt",
        "colab_type": "text"
      },
      "cell_type": "markdown",
      "source": [
        "Merupakan teknik sampling yang memberikan **peluang** yang sama bagi setiap anggota populasi untuk dipilih menjadi anggota sampel."
      ]
    },
    {
      "metadata": {
        "id": "1bvkhbmem2xr",
        "colab_type": "text"
      },
      "cell_type": "markdown",
      "source": [
        "### **Simple Random Sampling**"
      ]
    },
    {
      "metadata": {
        "id": "NI6_H-6Im88l",
        "colab_type": "text"
      },
      "cell_type": "markdown",
      "source": [
        "Pengambilan anggota sampel dari populasi dilakukan secara acak, tanpa memperhatikan strata yang ada dalam populasi tersebut. Hal itu dilakukan bila anggota populasi dianggap homogen. Cara pengambilannya dapat dilakukan dengan cara undian, generate random number, dll.  \n",
        "![Ilustrasi sampling](https://www.de.sarupub.org/wp-content/uploads/survey-methods.jpg)"
      ]
    },
    {
      "metadata": {
        "id": "UbddjBCZnfuz",
        "colab_type": "text"
      },
      "cell_type": "markdown",
      "source": [
        "### **Proportionate Stratified Random Sampling**"
      ]
    },
    {
      "metadata": {
        "id": "e3v5GYD5oiUE",
        "colab_type": "text"
      },
      "cell_type": "markdown",
      "source": [
        "Pengambilan sampel dengan teknik ini digunakan bila populasi mempunyai anggota yang tidak homogen dan berstrata secara proporsional. Misalnya, suatu organisasi yang mempunyai pegawai dari latar belakang pendidikan berstrata, maka populasi pegawai tersebut memiliki strata. Sebagai contoh, jumlah pegawai yang lulus S1 = 45, S2 = 30, STM = 800, ST = 900, SMEA = 400, SD = 300. Jumlah sampel yang diambil harus meliputi semua strata pendidikan tersebut.  \n",
        "![Stratified Random Sampling](https://upload.wikimedia.org/wikipedia/commons/thumb/f/fa/Stratified_sampling.PNG/220px-Stratified_sampling.PNG)"
      ]
    },
    {
      "metadata": {
        "id": "StCErxODpeS-",
        "colab_type": "text"
      },
      "cell_type": "markdown",
      "source": [
        "### **Disproporsionate Stratified Random Sampling**"
      ]
    },
    {
      "metadata": {
        "id": "5b7wiZVIpkZ2",
        "colab_type": "text"
      },
      "cell_type": "markdown",
      "source": [
        "Pengambilan sampel dengan teknik ini digunakan, bila populasi berstrata tetapi kurang proporsional. Misal, pegawai memiliki latar belakang pendidikan S3 = 3, S2 = 4, S1 = 90, SMU = 800, SMP = 700. Maka 3 orang lulusan S3 dan 4 orang lulusan S2 itu diambil semuanya sebagai sampel, karena kedua kelompok tersebut terlalu kecil bila dibandingkan dengan kelompok S1, SMU, SMP."
      ]
    },
    {
      "metadata": {
        "id": "sz_61gIVq_Qx",
        "colab_type": "text"
      },
      "cell_type": "markdown",
      "source": [
        "### **Cluster Sampling**"
      ]
    },
    {
      "metadata": {
        "id": "1K0Au-WmrErF",
        "colab_type": "text"
      },
      "cell_type": "markdown",
      "source": [
        "Cluster sampling digunakan pengambilan sampel nya dari obyek penelitian atau sumber data yang sangat luas, misal penduduk dari suatu negara, propinsi atau kabupaten. Untuk menentukan penduduk mana yang akan dijadikan sumber data, maka pengambilannya ditetapkan secara bertahap dari wilayah yang luas (negara) sampai ke wilayah yang terkecil (kabupaten). Setelah terpilih sampai yang terkecil, lalu dilakukan pemilihan sampel secara acak.  \n",
        "![alt text](data:image/png;base64,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)"
      ]
    },
    {
      "metadata": {
        "id": "N65WOS6EsZ0i",
        "colab_type": "text"
      },
      "cell_type": "markdown",
      "source": [
        "## **Nonprobability Sampling**"
      ]
    },
    {
      "metadata": {
        "id": "KhdjZ4nHsfmI",
        "colab_type": "text"
      },
      "cell_type": "markdown",
      "source": [
        "Merupakan teknik sampling yang **tidak memberikan peluang** yang sama bagi setiap anggota populasi untuk dipilih menjadi anggota sampel."
      ]
    },
    {
      "metadata": {
        "id": "Ik6NAtMi6blH",
        "colab_type": "text"
      },
      "cell_type": "markdown",
      "source": [
        "### **Sampling Sistematis**"
      ]
    },
    {
      "metadata": {
        "id": "MP7aTGXC6jD4",
        "colab_type": "text"
      },
      "cell_type": "markdown",
      "source": [
        "Merupakan teknik pengambilan sampel berdasarkan urutan dari anggota populasi yang telah diberi nomor urut. \n",
        "Contoh:\n",
        "1.   Misalnya dilakukan survey kepuasan pelanggan oleh PT. X. Dimana PT. X memiliki 1.000.000 pelanggan. Untuk survey tersebut hanya diberikan kepada pelanggan dengan nomor urut kelipatan 100, seperti 100, 200, 300 dst. \n",
        "2.   Pengambilan sampel pada anggota populasi dengan nomor urut ganjil atau dengan nomor genap saja.\n",
        "\n"
      ]
    },
    {
      "metadata": {
        "id": "2xQn7Gu69Pld",
        "colab_type": "text"
      },
      "cell_type": "markdown",
      "source": [
        "### **Sampling Kuota**"
      ]
    },
    {
      "metadata": {
        "id": "uJI73QQS9Ulr",
        "colab_type": "text"
      },
      "cell_type": "markdown",
      "source": [
        "Sampling kuota adalah teknik untuk menentukan sampel dari populasi yang mempunyai ciri-ciri tertentu sampai jumlah yang diinginkan (kuota). <br>\n",
        "Contoh:\n",
        "*   Melakukan penelitian tentang pendapatan masyarakat terhadap pelayanan masyarakat terkait Ijin Mendirikan Bangunan. Penelitian dilakukan kepada jumlah sampel yang ditentukan, yakni 500 orang. Jika pengumpulan data belum memenuhi kuota 500 orang, maka penelitian dianggap belum selesai, karena data belum terpenuhi.\n",
        "\n",
        "\n",
        "\n",
        "\n",
        "\n"
      ]
    },
    {
      "metadata": {
        "id": "niCvvgYzAg6H",
        "colab_type": "text"
      },
      "cell_type": "markdown",
      "source": [
        "### **Sampling Insidental**"
      ]
    },
    {
      "metadata": {
        "id": "yB8CmUHIAl4K",
        "colab_type": "text"
      },
      "cell_type": "markdown",
      "source": [
        "Merupakan teknik penuntuan sampel berdasarkan kebetulan. Maksudnya adalah, siapa saja atau apa saja yang secara **kebetulan/insidental** bertemu dengan peneliti, maka dijadikan sebagai sampel, bila obyek tersebut masuk dalam kriteria sampel bagi peneliti. "
      ]
    },
    {
      "metadata": {
        "id": "pcYUWecwB2wZ",
        "colab_type": "text"
      },
      "cell_type": "markdown",
      "source": [
        "### **Sampling Purposive**"
      ]
    },
    {
      "metadata": {
        "id": "lJP68BAxB8bq",
        "colab_type": "text"
      },
      "cell_type": "markdown",
      "source": [
        "Sampling purposive adalah teknik penentuan sampel dengan pertimbangan tertentu. MIsalnya akan melakukan penelitian tentang kondisi lingkungan disuatu daerah, maka sampel sumber datanya adalah ahli lingkungan. Teknik sampling ini cocok digunakan untuk penelitian kualitatif, atau penelitian-penelitian yang tidak melakukan generalisasi.  "
      ]
    },
    {
      "metadata": {
        "id": "apnaypFJEMWX",
        "colab_type": "text"
      },
      "cell_type": "markdown",
      "source": [
        "### **Sampling Total**"
      ]
    },
    {
      "metadata": {
        "id": "pd8rAw8LEQXP",
        "colab_type": "text"
      },
      "cell_type": "markdown",
      "source": [
        "Teknik sampling total merupakan teknik pengambilan sampel dengan cara mengambil semua anggota populasi untuk menjadi anggota sampel. Hal ini dilakukan bila jumlah populasi relatif kecil, atau penelitian yang ingin membuat generalisasi dengan kesalahan yang sangat kecil. Istilah lain teknik ini adalah **sensus**, dimana semua anggota populasi dijadikan sampel."
      ]
    },
    {
      "metadata": {
        "id": "eIIWDJpKFaBw",
        "colab_type": "text"
      },
      "cell_type": "markdown",
      "source": [
        "### **Snowball Sampling**"
      ]
    },
    {
      "metadata": {
        "id": "YlNsh9DQGmvD",
        "colab_type": "text"
      },
      "cell_type": "markdown",
      "source": [
        "Merupakan penentuan sampel yang mula-mula jumlahnya kecil, kemudian membesar. Seperti bola salju (snowball) yang menggelinding, pada awalnya kecil lalu makin lama membesar.  \n",
        "![alt text](https://encrypted-tbn0.gstatic.com/images?q=tbn:ANd9GcTs-RtteT_t21oPX9y5JW1zgQcFkYGO2GV8pG5u4MUdwo50lqRz)"
      ]
    },
    {
      "metadata": {
        "id": "nbVoRUPRb0u5",
        "colab_type": "text"
      },
      "cell_type": "markdown",
      "source": [
        "## **Menentukan Ukuran Sampel**"
      ]
    },
    {
      "metadata": {
        "id": "20ce4jI3b5--",
        "colab_type": "text"
      },
      "cell_type": "markdown",
      "source": [
        "Dalam penentuan ukuran sampel, semakin besar ukuran sampel yang diambil, maka tingkat kesalahan generalisasi semakin kecil. Dengan kata lain apabila jumlah sampel mendekati jumlah populasi, maka peluang kesalahan generalisasi makin kecil, begitu pula sebaliknya. Bila ada pertanyaan, berapa jumlah anggota sampel yang tepat digunakan dalam penelitian? Jawabannya tergantung dari tingkat ketelitian atau tingkat kesalahan yang dikehendaki. Pada bagian berikut ini akan dijelaskan tentang teknik-teknik penentuan ukuran sampel, sebagai catatan teknik ini dapat diterapkan bila data terdistribusi normal."
      ]
    },
    {
      "metadata": {
        "id": "cdVXBjVksU3m",
        "colab_type": "text"
      },
      "cell_type": "markdown",
      "source": [
        "### **Isaac dan Michael**"
      ]
    },
    {
      "metadata": {
        "id": "i8HKA2iPl23I",
        "colab_type": "text"
      },
      "cell_type": "markdown",
      "source": [
        "Pada bahasan ini akan diberikan persamaan untuk menentukan jumlah sampel berdasarkan Isaac dan Michael (*Isaac, S., & Michael, W. B. (1995). Handbook in research and evaluation: A collection of principles, methods, and strategies useful in the planning, design, and evaluation of studies in education and the behavioral sciences (3rd ed.). San Diego, CA, US: EdITS Publishers.*)\n",
        "\n",
        "---\n",
        "\n",
        "$s=\\frac{\\lambda^{2}. N . P . Q}{d^{2}. (N-1).\\lambda^{2}.P.Q}$\n",
        "\n",
        "s = Jumlah sample <br>\n",
        "N = Jumlah populasi <br>\n",
        "$\\lambda^{2}$ = Chi Kuadrat nilainya tergantung derajat kebebasan(dk) dan tingkat kesalahan, dengan dk = 1, taraf kesalahan 1% maka chi kuadrat = 6,634, taraf kesalahan 5% maka chi kuadrat = 3,841, dan taraf kesalahan 10% maka chi kuadrat = 2,706 <br>\n",
        "d = derajat akurasi yang diekspresikan sebagai proporsi (0,05) <br>\n",
        "P (peluang benar) = Q (peluang salah) = Proporsi populasi = 0,5 "
      ]
    },
    {
      "metadata": {
        "id": "ashZL8C3pLAY",
        "colab_type": "text"
      },
      "cell_type": "markdown",
      "source": [
        "Contoh:\n",
        "\n",
        "*   HItunglah jumlah sampel bila populasi 1000 orang, tingkat kesalahan 5%, dan perbedaan antara rata-rata sampel dengan rata-rata populasi = 0,05.\n",
        "*   Dengan menggunakan persamaan Isaac dan Michael, maka:<br>\n",
        "$s=\\frac{(3,841 . 1000 . 0,5 . 0,5)}{(0.05^2 . (1000-1)) + 3,841 . 0,5 . 0,5} = 277$\n",
        "*   Jadi untuk populasi 1000 dengan tingkat kesalahan 5% jumlah sampelnya adalah 277\n",
        "\n",
        "\n",
        "\n",
        "\n",
        "\n",
        "\n"
      ]
    },
    {
      "metadata": {
        "id": "oExEhG8xrPrB",
        "colab_type": "text"
      },
      "cell_type": "markdown",
      "source": [
        "**Tabel Isaac dan Michael  ** <br>\n",
        "![alt text](http://1.bp.blogspot.com/-NslZBltQf1s/UVx0bDpzyxI/AAAAAAAAApI/hP9axnja9Fw/s1600/Clipboard01.jpg)"
      ]
    },
    {
      "metadata": {
        "id": "qGMGcNjnw0UM",
        "colab_type": "text"
      },
      "cell_type": "markdown",
      "source": [
        "### **Nomogram Harry King**"
      ]
    },
    {
      "metadata": {
        "id": "1uFBe7VFxAG9",
        "colab_type": "text"
      },
      "cell_type": "markdown",
      "source": [
        "Nomogram Harry King adalah sebuah nomogram yang digunakan untuk menentukan jumlah atau ukuran sampel dengan cara menarik garis lurus dari titik yang menunjukkan jumlah populasi dengan melewati titik tingkat kesalahan, sehingga diperoleh prosentase populasi yang diambil sebagai sampel. Pada nomogram ini, populasi yang bisa ditentukan jumlah sampelnya hanya samapai 2.000 saja. <br>\n",
        "Pada rumus perhitungannya, terdapat faktor pengali. Besarnya faktor pengali (*multiplication factor*) ini tergantung pada *confidence interval* yang digunakan. ***Confidence interval*** ini apabila dikaitkan dengan pembahasan sebelumnya, maka kaitannya adalah dengan** taraf kesalahan**. Bila *confidence interval* 99%, maka taraf kesalahannya adalah 1%, bila *confidence interval *95%, maka taraf kesalahannya 5%.<br>\n",
        "\n",
        "Conf. Int. | Mult. Fact.\n",
        "--- | ---\n",
        "80% | 0,780\n",
        "85% | 0,875\n",
        "95% | 1,195\n",
        "99% | 1,573\n"
      ]
    },
    {
      "metadata": {
        "id": "c_3QL2Jl9JRg",
        "colab_type": "text"
      },
      "cell_type": "markdown",
      "source": [
        "Berikut ini adalah contoh perhitungan Nomogram Harry King: <br>\n",
        "![alt text](https://lh6.googleusercontent.com/-rBc9kr51xnM/UUmHhoGc71I/AAAAAAAAAHc/hui2zXS2LlQ/s482/TeknikSampling-2.jpg)\n",
        "<br>\n",
        "Misalnya populasi berjumlah 200 orang, bila tingkat kepercayaan yang dikehendaki adalah 5%, maka jumlah sampel yang diambil adalah:<br>\n",
        "n = 200 x (58%) x 1,195 <br>\n",
        "= 138,62 ˜ 139 orang<br>\n",
        "Keterangan: <br>\n",
        "\n",
        "*   Angka 58% didapat dari nomograf dengan menarik garis lurus melewati angka 200 dan taraf kesalahan 5%\n",
        "*   1,195 adalah faktor pengali dari selang kepercayaan 95%\n",
        "\n",
        "\n",
        "<br>\n",
        "Contoh diambil dari https://freelearningji.wordpress.com/2013/03/20/88/"
      ]
    },
    {
      "metadata": {
        "id": "xKH7a1z1uupF",
        "colab_type": "text"
      },
      "cell_type": "markdown",
      "source": [
        "### **Roscoe**"
      ]
    },
    {
      "metadata": {
        "id": "rWT9jsBMu8Ea",
        "colab_type": "text"
      },
      "cell_type": "markdown",
      "source": [
        "Menurut Roscoe, penentuan jumlah sampel itu ada aturannya. (*Roscoe, J.T. (1975) Fundamental Research Statistics for the Behavioral Sciences*)"
      ]
    },
    {
      "metadata": {
        "id": "xxwla5Ci_DMv",
        "colab_type": "text"
      },
      "cell_type": "markdown",
      "source": [
        "1.   Sebaiknya ukuran sampel di antara 30 s/d 500 elemen\n",
        "2.   Jika sampel dipecah lagi kedalam subsample, jumlah minimum subsample harus 30\n",
        "3.   Pada penelitian multivariate (termasuk analisis regresi multivariate) ukuran sampel harus beberapa kali lebih besar (10 kali) dari jumlah variable yang akan dianalisis\n",
        "4.   Untuk penelitian eksperimen yang sederhana, denganp pengendalian yang ketat, ukuran sampel bisa antara 10 s/d 20 elemen\n",
        "\n",
        "\n",
        "\n",
        "\n",
        "\n"
      ]
    },
    {
      "metadata": {
        "id": "CbpoPTXrIUJL",
        "colab_type": "text"
      },
      "cell_type": "markdown",
      "source": [
        "### **Krejcie dan Morgan**"
      ]
    },
    {
      "metadata": {
        "id": "QyNpxyX0IYWo",
        "colab_type": "text"
      },
      "cell_type": "markdown",
      "source": [
        "Selain tiga teknik penentuan ukuran sampel yang telah dibahas sebelumnya, masih terdapat 1 lagi teknik pengambilan sampel yang dapat digunakan, yakni teknik pengambilan sampel menurut Krejcie dan Morgan. (*Krejcie, R.V., & Morgan, D.W., (1970). Determining Sample Size for Research Activities. Educational and Psychological Measurement.*)\n",
        "\n",
        "---\n",
        "\n",
        "Persamaan:<br>\n",
        "$s=\\lambda^{2}.N.P(1-P)+d^{2}(N-1)+\\lambda^{2}.P(1-P)$ <br>\n",
        "\n",
        "s = Jumlah sampel <br>\n",
        "N = Jumlah populasi <br>\n",
        "$\\lambda^{2}$ = Chi Kuadrat nilainya tergantung derajat kebebasan(dk) dan tingkat kesalahan, dengan dk = 1, taraf kesalahan 1% maka chi kuadrat = 6,634, taraf kesalahan 5% maka chi kuadrat = 3,841, dan taraf kesalahan 10% maka chi kuadrat = 2,706 <br>\n",
        "d = derajat akurasi yang diekspresikan sebagai proporsi (0,05) <br>\n",
        "P (peluang benar)  = Proporsi populasi = 0,5 "
      ]
    },
    {
      "metadata": {
        "id": "iMHgMTTGJjLM",
        "colab_type": "text"
      },
      "cell_type": "markdown",
      "source": [
        "**Tabel Krejcie Morgan**\n",
        "<br>\n",
        "![alt text](http://www.kenpro.org/wp-content/uploads/2013/08/krejcie-and-morgan-table-of-determining-sample-size.png)"
      ]
    }
  ]
}