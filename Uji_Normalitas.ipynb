{
  "nbformat": 4,
  "nbformat_minor": 0,
  "metadata": {
    "colab": {
      "name": "Uji Normalitas.ipynb",
      "version": "0.3.2",
      "provenance": [],
      "collapsed_sections": [],
      "include_colab_link": true
    },
    "kernelspec": {
      "name": "python3",
      "display_name": "Python 3"
    }
  },
  "cells": [
    {
      "cell_type": "markdown",
      "metadata": {
        "id": "view-in-github",
        "colab_type": "text"
      },
      "source": [
        "<a href=\"https://colab.research.google.com/github/yogjay/StatistikaTerapan/blob/master/Uji_Normalitas.ipynb\" target=\"_parent\"><img src=\"https://colab.research.google.com/assets/colab-badge.svg\" alt=\"Open In Colab\"/></a>"
      ]
    },
    {
      "metadata": {
        "id": "9OZ-jVLpgHX1",
        "colab_type": "text"
      },
      "cell_type": "markdown",
      "source": [
        "# **UJI NORMALITAS DATA**"
      ]
    },
    {
      "metadata": {
        "id": "iJlbXWWCgQ5Y",
        "colab_type": "text"
      },
      "cell_type": "markdown",
      "source": [
        "Dalam sebuah penelitian, mengetahui informasi tentang data yang akan diteliti itu sangat penting. Karena dengan mengetahui informasi tentang data, maka kita dapat menentukan metode apa yang harus kita gunakan untuk melakukan *treatment* terhadap data tersebut. Dalam statistika, terdapat 2 istilah yakni **parametris** dan **non parametris**. <br>\n",
        "**Statistika parametris** bekerja berdasarkan asusmsi bahwa data setiap variabel penelitian yang akan dianalisis membentuk distribusi normal. Bila data tidak normal, maka tidak dapat menggunakan metode statistika parametris. Sehingga digunakan teknik **statistika nonparametris**.\n"
      ]
    },
    {
      "metadata": {
        "id": "40dW1afdlCEo",
        "colab_type": "text"
      },
      "cell_type": "markdown",
      "source": [
        "**Apa Itu Uji Normalitas?**<br>\n",
        "*Uji normalitas bertujuan untuk mengtahui apakah data yang kita miliki berdistribusi normal atau mendekati normal. Yaitu data yang berdistribusi bentuk lonceng (bell shaped) atau data tersebut tidak menceng ke kiri atau menceng ke kanan. (Santoso 2010, 43)*\n",
        "<br>\n",
        "*Uji normalitas dilakukan untuk mengetahui normal atau tidaknya suatu distribusi data yang nantinya hal ini menjadi penting diketahui karena berkaitan dengan pemilihan uji statistik yang tepat untuk digunakan. (Saeful dan Bahruddin 2014, 113)*"
      ]
    },
    {
      "metadata": {
        "id": "mM5S0a5102bk",
        "colab_type": "text"
      },
      "cell_type": "markdown",
      "source": [
        "## **Distribusi Normal**"
      ]
    },
    {
      "metadata": {
        "id": "nNNvinG808pn",
        "colab_type": "text"
      },
      "cell_type": "markdown",
      "source": [
        "Suatu data membentuk distribusi normal (disebut juga distribusi Gauss) jika jumlah data di atas dan di bawah mean adalah sama. Distribusi normal berupa kurva berbentuk lonceng setangkup yang melebar tak berhingga pada kedua arah positif dan negatifnya. Atau dapat dikatakan bahwa data menyebar merata dan polanya tidak menceng ke kiri atau pun ke kanan."
      ]
    },
    {
      "metadata": {
        "id": "9OHlVzUu3s6T",
        "colab_type": "text"
      },
      "cell_type": "markdown",
      "source": [
        "Ciri-ciri kurva normal :<br>\n",
        "**Bentuk kurva normal**\n",
        "1.   Menyerupai lonceng (genta/bel).\n",
        "2.   Merupakan suatu poligon yang dilicinkan yang mana ordinat (sumbu tegak) merupakan frekuensi dan absisnya (sumbu alas) memuat nilai variabel.\n",
        "3.   Luas daerah merupakan nilai rata-rata (mean).\n",
        "4.   Luas daerah sebelah kiri dan kanan mendekati 50%.\n",
        "\n",
        "<br>\n",
        "**Daerah kurva normal**<br>\n",
        "1.   Merupakan ruangan yang dibatasi daerah kurva dengan absisnya (sumbu alas).\n",
        "2.   Luas daerah biasanya dinyatakan dalam persen atau proporsi.\n",
        "3.   Distribusi normal dipengaruhi oleh dua parameter, yaitu mean dan standar deviasi.\n",
        "4.   Mean menentukan lokasi pusat statistik dan standar deviasi menentukan lebar dari kurva normal.\n",
        "\n",
        "<br>\n",
        "**Kurve Normal Baku**<br>\n",
        "\n",
        "![Kurve Normal Baku](http://4.bp.blogspot.com/-Pl1bMK3WcLE/T0MyMQvnwXI/AAAAAAAAAA8/2qubNJt-JtU/s1600/kurva+normal.png)\n",
        "\n",
        "\n",
        "\n",
        "\n",
        "\n",
        "\n"
      ]
    },
    {
      "metadata": {
        "id": "e7qBfI7ruZTI",
        "colab_type": "text"
      },
      "cell_type": "markdown",
      "source": [
        "## **Uji Normalitas Menggunakan Chi Square ($\\chi^2$)**"
      ]
    },
    {
      "metadata": {
        "id": "R0cnxBhju5cI",
        "colab_type": "text"
      },
      "cell_type": "markdown",
      "source": [
        "Dalam tulisan ini akan dibahas bagaimana cara untuk melakukan uji normalitas menggunakan $\\chi^2$. Untuk mempermudah dalam mempelajarinya, maka akan diberikan contoh sekaligus penyelesaiannya."
      ]
    },
    {
      "metadata": {
        "id": "FIC_jzFrxo4c",
        "colab_type": "text"
      },
      "cell_type": "markdown",
      "source": [
        "**Contoh Kasus** <br>\n"
      ]
    },
    {
      "metadata": {
        "id": "GrRSzUvd6xTq",
        "colab_type": "text"
      },
      "cell_type": "markdown",
      "source": [
        "Data nilai ujian Mata Kuliah Statistika 150 mahasiswa akan diuji normalitasnya dengan Chi Square ($\\chi^2$). Datanya adalah sebagai berikut:"
      ]
    },
    {
      "metadata": {
        "id": "VTp9tIFIBTT8",
        "colab_type": "text"
      },
      "cell_type": "markdown",
      "source": [
        "|||||||||||\n",
        "|--- |--- |--- |--- |--- |--- |--- |--- |--- |--- |\n",
        "|27|79|69|40|51|88|55|48|36|61|\n",
        "|53|44|93|51|65|42|58|55|69|63|\n",
        "|70|48|61|55|60|25|47|78|61|54|\n",
        "|57|76|73|62|36|67|40|51|59|68|\n",
        "|27|46|62|43|54|83|59|13|72|57|\n",
        "|82|45|54|52|71|53|82|69|60|35|\n",
        "|41|65|62|75|60|42|55|34|49|45|\n",
        "|49|64|40|61|73|44|59|46|71|86|\n",
        "|43|69|54|31|36|51|75|44|66|53|\n",
        "|80|71|53|56|91|60|41|29|56|57|\n",
        "|35|54|43|39|56|27|62|44|85|61|\n",
        "|59|89|60|51|71|53|58|26|77|68|\n",
        "|62|57|48|69|76|52|49|45|54|41|\n",
        "|33|61|80|57|42|45|59|44|68|73|\n",
        "|55|70|39|59|69|51|85|46|55|67|\n"
      ]
    },
    {
      "metadata": {
        "id": "JR7lMHa8BeOD",
        "colab_type": "text"
      },
      "cell_type": "markdown",
      "source": [
        "**Langkah-langkah Penyelesaian**"
      ]
    },
    {
      "metadata": {
        "id": "GwNYSpA5CNYp",
        "colab_type": "text"
      },
      "cell_type": "markdown",
      "source": [
        "\n",
        "1.   Menentukan jumlah kelas interval. Untuk pengujian normalitas dengan Chi Square, jumlah kelas interval ditetapkan = 6. Hal ini sesuai dengan 6 bidang yang ada pada Kurve Normal Baku\n",
        "2.   Menentukan panjang kelas interval.<br><br>\n",
        "$Panjang Kelas = \\frac{Data Terbesar - Data Terkecil}{Jumlah Kelas Interval}$ <br><br>\n",
        "$Panjang Kelas=\\frac{94-13}{6}=13,5$ dibulatkan menjadi 14 <br><br>\n",
        "3.   Menyusun ke dalam tabel distribusi frekuensi, sekaligus tabel penolong untuk menghitung harga Chi Square hitung. Berikut ini adalah tabel nya: \n",
        "\n",
        "\n",
        "|||||||\n",
        "|----- |----- |----- |----- |----- |----- |\n",
        "|**Interval**|$f_{o}$|$f_{h}$|$(f_{o}-f_{h})$|$(f_{o}-f_{h})^2$|$\\frac{(f_{o}-f_{h})^2}{f_{h}}$|\n",
        "|13 - 27|3|4|-1|1|0,25|\n",
        "|28 - 42|21|20|1|1|0,05|\n",
        "|43 - 57|56|51|5|25|0,49|\n",
        "|58 - 72|45|51|-6|36|0,70|\n",
        "|73 - 87|2|20|1|1|0,05|\n",
        "|88 - 102|4|4|0|0|0|\n",
        "|**Jumlah**|**150**|**150\t**|**0**||**1,55**|\n",
        "\n",
        "<br>\tKeterangan:\t\n",
        "$f_{o}$ = Frekuensi/jumlah data hasil observasi<br>\n",
        "$f_{h}$ = Frekuensi/jumlah yang diharapkan (persentase luas tiap bidang dikalikan dengan n)<br>\n",
        "$(f_{o}-f_{h})$ = Selisih data $f_{o}$ dengan $f_{h}$\n",
        "4.   Menghitung $f_{h}$, didasarkan pada persentase luas tiap bidang kurva normal dikalikan jumlah data observasi (jumlah individu dalam sampel). Dalam hal ini jumlah individu dalam sampel = 150. <br>\n",
        "Jadi:<br>  \n",
        "a.  Baris pertama dari atas: 2,7% x 150 = 4,05 dibulatkan menjadi 4<br>\n",
        "b.  Baris kedua dari atas: 13,53% x 150 = 20,30 dibulatkan menjadi 20<br>\n",
        "c.  Baris ketiga dari atas: 34,13% x 150 = 51,20 dibulatkan menjadi 51<br>\n",
        "d.  Baris keempat dari atas: 34,13% x 150 = 51,20 dibulatkan menjadi 51<br>\n",
        "e.  Baris kelima dari atas: 13,53% x 150 = 20,30 dibulatkan menjadi 20<br>\n",
        "f.  Baris keenam dari atas: 2,7% x 150 = 4,05 dibulatkan menjadi 4<br>\n",
        "\n",
        "\n",
        "5.   Memasukkan harga-harga $f_{h}$ ke dalamtabel kolom $f_{h}$, sekaligus menghitung harga-harga $(f_{o}-f_{h})^2$ dan $\\frac{(f_{o}-f_{h})^2}{f_{h}}$. Harga $\\frac{(f_{o}-f_{h})^2}{f_{h}}$\tmerupakan harga Chi Square ($\\chi^2$) Hitung.\n",
        "6.   Membandingkan harga $\\chi^2$ Hitung dan $\\chi^2$ Tabel. Bila harga $\\chi^2$ Hitung **lebih kecil **dari pada $\\chi^2$ Tabel, maka distribusi data dinyatakan **normal**, dan bila **lebih besar **dinyatakan **tidak normal**.\n",
        "<br><br>\n",
        "**Tabel $\\chi^2$**<br>\n",
        "![alt text](https://i2.wp.com/www.statistikian.com/wp-content/uploads/blogger/-pAeglRRna6c/U1LLQQIMAuI/AAAAAAAACwQ/KiocqpWquTI/s1600/Chi-Square%2BTabel.JPG)\n",
        "\n",
        "Dalam perhitungan ditemukan $\\chi^2$ HItung = 1,55. Selanjutnya nilai tersebut dibandingkan dengan $\\chi^2$ Tabel dengan derajat kebebasan = 6 - 1 = 5. Berdasarkan Tabel $\\chi^2$, dapat diketahui bahwa dengan derajat kebebasan 5, dan kesalahan yang ditetapkan 5%, maka harga $\\chi^2$ Tabel = 11,070.<br>\n",
        "*Karena harga $\\chi^2$ Hitung  (1,55) lebih kecil dari $\\chi^2$ Tabel (11,070), maka distribusi data statistik 150 mahasiswa tersebut dapat dinyatakan terdistribusi normal*.\n",
        "\n",
        "\n",
        "\n"
      ]
    }
  ]
}