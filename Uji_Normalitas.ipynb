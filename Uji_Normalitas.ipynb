{
  "nbformat": 4,
  "nbformat_minor": 0,
  "metadata": {
    "colab": {
      "name": "Uji Normalitas.ipynb",
      "version": "0.3.2",
      "provenance": [],
      "collapsed_sections": [],
      "include_colab_link": true
    },
    "kernelspec": {
      "name": "python3",
      "display_name": "Python 3"
    }
  },
  "cells": [
    {
      "cell_type": "markdown",
      "metadata": {
        "id": "view-in-github",
        "colab_type": "text"
      },
      "source": [
        "<a href=\"https://colab.research.google.com/github/yogjay/StatistikaTerapan/blob/master/Uji_Normalitas.ipynb\" target=\"_parent\"><img src=\"https://colab.research.google.com/assets/colab-badge.svg\" alt=\"Open In Colab\"/></a>"
      ]
    },
    {
      "metadata": {
        "id": "9OZ-jVLpgHX1",
        "colab_type": "text"
      },
      "cell_type": "markdown",
      "source": [
        "# **UJI NORMALITAS DATA**"
      ]
    },
    {
      "metadata": {
        "id": "iJlbXWWCgQ5Y",
        "colab_type": "text"
      },
      "cell_type": "markdown",
      "source": [
        "Dalam sebuah penelitian, mengetahui informasi tentang data yang akan diteliti itu sangat penting. Karena dengan mengetahui informasi tentang data, maka kita dapat menentukan metode apa yang harus kita gunakan untuk melakukan *treatment* terhadap data tersebut. Dalam statistika, terdapat 2 istilah yakni **parametris** dan **non parametris**. <br>\n",
        "**Statistika parametris** bekerja berdasarkan asusmsi bahwa data setiap variabel penelitian yang akan dianalisis membentuk distribusi normal. Bila data tidak normal, maka tidak dapat menggunakan metode statistika parametris. Sehingga digunakan teknik **statistika nonparametris**.\n"
      ]
    },
    {
      "metadata": {
        "id": "40dW1afdlCEo",
        "colab_type": "text"
      },
      "cell_type": "markdown",
      "source": [
        "**Apa Itu Uji Normalitas?**<br>\n",
        "*Uji normalitas bertujuan untuk mengtahui apakah data yang kita miliki berdistribusi normal atau mendekati normal. Yaitu data yang berdistribusi bentuk lonceng (bell shaped) atau data tersebut tidak menceng ke kiri atau menceng ke kanan. (Santoso 2010, 43)*\n",
        "<br>\n",
        "*Uji normalitas dilakukan untuk mengetahui normal atau tidaknya suatu distribusi data yang nantinya hal ini menjadi penting diketahui karena berkaitan dengan pemilihan uji statistik yang tepat untuk digunakan. (Saeful dan Bahruddin 2014, 113)*"
      ]
    },
    {
      "metadata": {
        "id": "mM5S0a5102bk",
        "colab_type": "text"
      },
      "cell_type": "markdown",
      "source": [
        "## **Distribusi Normal**"
      ]
    },
    {
      "metadata": {
        "id": "nNNvinG808pn",
        "colab_type": "text"
      },
      "cell_type": "markdown",
      "source": [
        "Suatu data membentuk distribusi normal (disebut juga distribusi Gauss) jika jumlah data di atas dan di bawah mean adalah sama. Distribusi normal berupa kurva berbentuk lonceng setangkup yang melebar tak berhingga pada kedua arah positif dan negatifnya. Atau dapat dikatakan bahwa data menyebar merata dan polanya tidak menceng ke kiri atau pun ke kanan."
      ]
    },
    {
      "metadata": {
        "id": "9OHlVzUu3s6T",
        "colab_type": "text"
      },
      "cell_type": "markdown",
      "source": [
        "Ciri-ciri kurva normal :<br>\n",
        "**Bentuk kurva normal**\n",
        "1.   Menyerupai lonceng (genta/bel).\n",
        "2.   Merupakan suatu poligon yang dilicinkan yang mana ordinat (sumbu tegak) merupakan frekuensi dan absisnya (sumbu alas) memuat nilai variabel.\n",
        "3.   Luas daerah merupakan nilai rata-rata (mean).\n",
        "4.   Luas daerah sebelah kiri dan kanan mendekati 50%.\n",
        "\n",
        "<br>\n",
        "**Daerah kurva normal**<br>\n",
        "1.   Merupakan ruangan yang dibatasi daerah kurva dengan absisnya (sumbu alas).\n",
        "2.   Luas daerah biasanya dinyatakan dalam persen atau proporsi.\n",
        "3.   Distribusi normal dipengaruhi oleh dua parameter, yaitu mean dan standar deviasi.\n",
        "4.   Mean menentukan lokasi pusat statistik dan standar deviasi menentukan lebar dari kurva normal.\n",
        "\n",
        "<br>\n",
        "**Kurve Normal Baku**<br>\n",
        "\n",
        "![Kurve Normal Baku](http://4.bp.blogspot.com/-Pl1bMK3WcLE/T0MyMQvnwXI/AAAAAAAAAA8/2qubNJt-JtU/s1600/kurva+normal.png)\n",
        "\n",
        "\n",
        "\n",
        "\n",
        "\n",
        "\n"
      ]
    },
    {
      "metadata": {
        "id": "e7qBfI7ruZTI",
        "colab_type": "text"
      },
      "cell_type": "markdown",
      "source": [
        "## **Uji Normalitas Menggunakan Chi Square ($\\chi^2$)**"
      ]
    },
    {
      "metadata": {
        "id": "R0cnxBhju5cI",
        "colab_type": "text"
      },
      "cell_type": "markdown",
      "source": [
        "Dalam tulisan ini akan dibahas bagaimana cara untuk melakukan uji normalitas menggunakan $\\chi^2$. Untuk mempermudah dalam mempelajarinya, maka akan diberikan contoh sekaligus penyelesaiannya."
      ]
    },
    {
      "metadata": {
        "id": "FIC_jzFrxo4c",
        "colab_type": "text"
      },
      "cell_type": "markdown",
      "source": [
        "**Contoh Kasus** <br>\n"
      ]
    },
    {
      "metadata": {
        "id": "GrRSzUvd6xTq",
        "colab_type": "text"
      },
      "cell_type": "markdown",
      "source": [
        "Data nilai ujian Mata Kuliah Statistika 150 mahasiswa akan diuji normalitasnya dengan Chi Square ($\\chi^2$). Datanya adalah sebagai berikut:"
      ]
    },
    {
      "metadata": {
        "id": "VTp9tIFIBTT8",
        "colab_type": "text"
      },
      "cell_type": "markdown",
      "source": [
        "<table width=100%>\t\t\t\t\t\t\t\t\t\t\t\t\t\t\t\t\t\t\t\t\t\n",
        "<tr>\t\t\t\t\t\t\t\t\t\t\t\t\t\t\t\t\t\t\t\t\t\n",
        "<td>\t27\t</td><td>\t79\t</td><td>\t69\t</td><td>\t40\t</td><td>\t51\t</td><td>\t88\t</td><td>\t55\t</td><td>\t48\t</td><td>\t36\t</td><td>\t61\t</td>\t</tr><tr>\n",
        "<td>\t53\t</td><td>\t44\t</td><td>\t93\t</td><td>\t51\t</td><td>\t65\t</td><td>\t42\t</td><td>\t58\t</td><td>\t55\t</td><td>\t69\t</td><td>\t63\t</td>\t</tr><tr>\n",
        "<td>\t70\t</td><td>\t48\t</td><td>\t61\t</td><td>\t55\t</td><td>\t60\t</td><td>\t25\t</td><td>\t47\t</td><td>\t78\t</td><td>\t61\t</td><td>\t54\t</td>\t</tr><tr>\n",
        "<td>\t57\t</td><td>\t76\t</td><td>\t73\t</td><td>\t62\t</td><td>\t36\t</td><td>\t67\t</td><td>\t40\t</td><td>\t51\t</td><td>\t59\t</td><td>\t68\t</td>\t</tr><tr>\n",
        "<td>\t27\t</td><td>\t46\t</td><td>\t62\t</td><td>\t43\t</td><td>\t54\t</td><td>\t83\t</td><td>\t59\t</td><td>\t13\t</td><td>\t72\t</td><td>\t57\t</td>\t</tr><tr>\n",
        "<td>\t82\t</td><td>\t45\t</td><td>\t54\t</td><td>\t52\t</td><td>\t71\t</td><td>\t53\t</td><td>\t82\t</td><td>\t69\t</td><td>\t60\t</td><td>\t35\t</td>\t</tr><tr>\n",
        "<td>\t41\t</td><td>\t65\t</td><td>\t62\t</td><td>\t75\t</td><td>\t60\t</td><td>\t42\t</td><td>\t55\t</td><td>\t34\t</td><td>\t49\t</td><td>\t45\t</td>\t</tr><tr>\n",
        "<td>\t49\t</td><td>\t64\t</td><td>\t40\t</td><td>\t61\t</td><td>\t73\t</td><td>\t44\t</td><td>\t59\t</td><td>\t46\t</td><td>\t71\t</td><td>\t86\t</td>\t</tr><tr>\n",
        "<td>\t43\t</td><td>\t69\t</td><td>\t54\t</td><td>\t31\t</td><td>\t36\t</td><td>\t51\t</td><td>\t75\t</td><td>\t44\t</td><td>\t66\t</td><td>\t53\t</td>\t</tr><tr>\n",
        "<td>\t80\t</td><td>\t71\t</td><td>\t53\t</td><td>\t56\t</td><td>\t91\t</td><td>\t60\t</td><td>\t41\t</td><td>\t29\t</td><td>\t56\t</td><td>\t57\t</td>\t</tr><tr>\n",
        "<td>\t35\t</td><td>\t54\t</td><td>\t43\t</td><td>\t39\t</td><td>\t56\t</td><td>\t27\t</td><td>\t62\t</td><td>\t44\t</td><td>\t85\t</td><td>\t61\t</td>\t</tr><tr>\n",
        "<td>\t59\t</td><td>\t89\t</td><td>\t60\t</td><td>\t51\t</td><td>\t71\t</td><td>\t53\t</td><td>\t58\t</td><td>\t26\t</td><td>\t77\t</td><td>\t68\t</td>\t</tr><tr>\n",
        "<td>\t62\t</td><td>\t57\t</td><td>\t48\t</td><td>\t69\t</td><td>\t76\t</td><td>\t52\t</td><td>\t49\t</td><td>\t45\t</td><td>\t54\t</td><td>\t41\t</td>\t</tr><tr>\n",
        "<td>\t33\t</td><td>\t61\t</td><td>\t80\t</td><td>\t57\t</td><td>\t42\t</td><td>\t45\t</td><td>\t59\t</td><td>\t44\t</td><td>\t68\t</td><td>\t73\t</td>\t</tr><tr>\n",
        "<td>\t55\t</td><td>\t70\t</td><td>\t39\t</td><td>\t59\t</td><td>\t69\t</td><td>\t51\t</td><td>\t85\t</td><td>\t46\t</td><td>\t55\t</td><td>\t67\t</td>\t</tr>\n",
        "</table>\t\t\t\t\t\t\t\t\t\t\t\t\t\t\t\t\t\t\t\t\t"
      ]
    },
    {
      "metadata": {
        "id": "JR7lMHa8BeOD",
        "colab_type": "text"
      },
      "cell_type": "markdown",
      "source": [
        "**Langkah-langkah Penyelesaian**"
      ]
    },
    {
      "metadata": {
        "id": "GwNYSpA5CNYp",
        "colab_type": "text"
      },
      "cell_type": "markdown",
      "source": [
        "\n",
        "1.   Menentukan jumlah kelas interval. Untuk pengujian normalitas dengan Chi Square, jumlah kelas interval ditetapkan = 6. Hal ini sesuai dengan 6 bidang yang ada pada Kurve Normal Baku\n",
        "2.   Menentukan panjang kelas interval.<br><br>\n",
        "$Panjang Kelas = \\frac{Data Terbesar - Data Terkecil}{Jumlah Kelas Interval}$ <br><br>\n",
        "$Panjang Kelas=\\frac{94-13}{6}=13,5$ dibulatkan menjadi 14 <br><br>\n",
        "3.   Menyusun ke dalam tabel distribusi frekuensi, sekaligus tabel penolong untuk menghitung harga Chi Square hitung. Berikut ini adalah tabel nya: \n",
        "<table width=100%>\t\t\t\t\t\t\t\t\t\t\t\t\t\n",
        "<tr align=center>\t\t\t\t\t\t\t\t\t\t\t\t\t\n",
        "<td>\t**Interval\t**</td><td>\t$f_{o}$\t</td><td>\t$f_{h}$\t</td><td>\t$(f_{o}-f_{h})$\t</td><td>\t$(f_{o}-f_{h})^2$</td><td>$\\frac{(f_{o}-f_{h})^2}{f_{h}}$\t</td>\t</tr><tr align=center>\n",
        "<td>\t13 - 27\t</td><td>\t3\t</td><td>\t4\t</td><td>\t-1\t</td><td>\t1\t</td><td>\t0,25\t</td>\t</tr><tr align=center>\n",
        "<td>\t28 - 42\t</td><td>\t21\t</td><td>\t20\t</td><td>\t1\t</td><td>\t1\t</td><td>\t0,05\t</td>\t</tr><tr align=center>\n",
        "<td>\t43 - 57\t</td><td>\t56\t</td><td>\t51\t</td><td>\t5\t</td><td>\t25\t</td><td>\t0,49\t</td>\t</tr><tr align=center>\n",
        "<td>\t58 - 72\t</td><td>\t45\t</td><td>\t51\t</td><td>\t-6\t</td><td>\t36\t</td><td>\t0,70\t</td>\t</tr><tr align=center>\n",
        "<td>\t73 - 87\t</td><td>\t2\t</td><td>\t20\t</td><td>\t1\t</td><td>\t1\t</td><td>\t0,05\t</td>\t</tr><tr align=center>\n",
        "<td>\t88 - 102\t</td><td>\t4\t</td><td>\t4\t</td><td>\t0\t</td><td>\t0\t</td><td>\t0\t</td>\t</tr><tr align=center>\n",
        "<td>\t**Jumlah**\t</td><td>\t**150**\t</td><td>**\t150\t**</td><td>\t**0\t**</td><td>\t\t</td><td>\t**1,55**\t</td>\t</tr>\n",
        "</table>\t<br>\tKeterangan:\t\n",
        "$f_{o}$ = Frekuensi/jumlah data hasil observasi<br>\n",
        "$f_{h}$ = Frekuensi/jumlah yang diharapkan (persentase luas tiap bidang dikalikan dengan n)<br>\n",
        "$(f_{o}-f_{h})$ = Selisih data $f_{o}$ dengan $f_{h}$\n",
        "4.   Menghitung $f_{h}$, didasarkan pada persentase luas tiap bidang kurva normal dikalikan jumlah data observasi (jumlah individu dalam sampel). Dalam hal ini jumlah individu dalam sampel = 150. <br>\n",
        "Jadi:\n",
        "> a.  Baris pertama dari atas: 2,7% x 150 = 4,05 dibulatkan menjadi 4<br>\n",
        "> b.  Baris kedua dari atas: 13,53% x 150 = 20,30 dibulatkan menjadi 20<br>\n",
        "> c.  Baris ketiga dari atas: 34,13% x 150 = 51,20 dibulatkan menjadi 51<br>\n",
        "> d.  Baris keempat dari atas: 34,13% x 150 = 51,20 dibulatkan menjadi 51<br>\n",
        "> e.  Baris kelima dari atas: 13,53% x 150 = 20,30 dibulatkan menjadi 20<br>\n",
        "> f.  Baris keenam dari atas: 2,7% x 150 = 4,05 dibulatkan menjadi 4<br>\n",
        "\n",
        "\n",
        "5.   Memasukkan harga-harga $f_{h}$ ke dalamtabel kolom $f_{h}$, sekaligus menghitung harga-harga $(f_{o}-f_{h})^2$ dan $\\frac{(f_{o}-f_{h})^2}{f_{h}}$. Harga $\\frac{(f_{o}-f_{h})^2}{f_{h}}$\tmerupakan harga Chi Square ($\\chi^2$) Hitung.\n",
        "6.   Membandingkan harga $\\chi^2$ Hitung dan $\\chi^2$ Tabel. Bila harga $\\chi^2$ Hitung **lebih kecil **dari pada $\\chi^2$ Tabel, maka distribusi data dinyatakan **normal**, dan bila **lebih besar **dinyatakan **tidak normal**.\n",
        "<br><br>\n",
        "**Tabel $\\chi^2$**<br>\n",
        "![alt text](https://i2.wp.com/www.statistikian.com/wp-content/uploads/blogger/-pAeglRRna6c/U1LLQQIMAuI/AAAAAAAACwQ/KiocqpWquTI/s1600/Chi-Square%2BTabel.JPG)\n",
        "\n",
        "Dalam perhitungan ditemukan $\\chi^2$ HItung = 1,55. Selanjutnya nilai tersebut dibandingkan dengan $\\chi^2$ Tabel dengan derajat kebebasan = 6 - 1 = 5. Berdasarkan Tabel $\\chi^2$, dapat diketahui bahwa dengan derajat kebebasan 5, dan kesalahan yang ditetapkan 5%, maka harga $\\chi^2$ Tabel = 11,070.<br>\n",
        "*Karena harga $\\chi^2$ Hitung  (1,55) lebih kecil dari $\\chi^2$ Tabel (11,070), maka distribusi data statistik 150 mahasiswa tersebut dapat dinyatakan terdistribusi normal*.\n",
        "\n",
        "\n",
        "\n"
      ]
    }
  ]
}