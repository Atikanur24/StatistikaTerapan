# Rangkuman Rumus Statistika

## Bab 1: Penyajian Data

1. Jumah Kelas Interval

   > $k = 1 + 3,3$ $log$ $n$

   k = jumlah kelas,  
   n = jumlah data

2. Rentang Data

   > $R =$ $data$ $tertinggi$ $-$ $data$ $terendah$ $+$ $1$

3. Panjang kelas

   > ## $c = \frac{R}{k}$

   $l$ = panjang kelas  
   $R$ = Rentang Data  
   $k$ = jumlah kelas

---

## Bab 2: Ukuran Pemusatan

1. **Mean**  
   a. Data Tunggal

   > ## $\bar{x} \ =\frac{ \ jumlah \ nilai \ x}{n}$

   $\bar{x}$ = mean  
   n = jumlah data

   b. Data Berkelompok

   > ## $\bar{x} \ = \frac{\sum_{i}^{k} \ fi \ \cdot \ xi}{\sum_{i}^{k} \ fi}$

   $fi$ = frekuensi ke-i  
   $xi$ = nilai tengah dari kelas ke-i  
   $\bar{x}$ = mean

2. **Median**  
   a. Data Tunggal

   > jika jumlah Data ganjil
   >
   > ## $Me =$ $x_{\frac{n+1}{2}}$

   > jika jumlah Data genap
   >
   > ## $Me =$ $\frac{x_{\frac{n}{2}} + x_{\frac{n}{2}+1}}{2}$

   $Me$ = Median  
   $n$ = jumlah data  
   $x_{n}$ = data ke-n

   b. Data Berkelompok

   > ## $Me = Tb + \frac{\frac{1}{2}n-F}{f} \ c$
   >
   > ### $letak \ kelas \ median = \frac{jumlah \ frekuensi \ total}{2}$

   $Me$ = Median  
   $Tb$ = tepi bawah kelas median  
   $n$ = jumlah  
   $F$ = frekuensi kumulatif hingga kelas sebelum kelas median  
   $f$ = frekuensi kelas median  
   $c$ = panjang kelas median

3. **Modus**  
   a. Data Tunggal

   > cari data dengan frekuensi tertinggi

   b. Data Berkelompok

   > ## $Mo = Tb + \frac{d1}{d1+d2} \ c$

   $Mo$ = Modus  
   $Tb$ = Tepi bawah kelas modus  
   $d1$ = Selisih frekuensi modus dengan frekuensi kelas sebelumnya  
   $d2$ = Selisih frekuensi modus dengan frekuensi kelas sesudahnya  
   $c$ = panjang kelas Modus

---

## Bab 3: Penyebaran Data

1. Standar Deviasi (Simpangan Baku)

   > ## $s = \sqrt{\frac{\sum (x_{i} - \bar{x})^{2}}{n-1}}$

   $s$ = Standar Deviasi  
   $x_{i}$ = nilai kelas ke-$i$  
   $\bar{x}$ = Mean  
   $n$ = total frekuensi

   > **Catatan:**  
   >  $Standar \ Deviasi$ = $\sqrt{varian}$

## Bab 4: Populasi dan Sampel

---

## Bab 5: Pengujian Normalitas Data

---

## Bab 6: Konsep Dasar Uji Hipotesis

---
