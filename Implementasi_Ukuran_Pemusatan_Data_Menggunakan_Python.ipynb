{
  "nbformat": 4,
  "nbformat_minor": 0,
  "metadata": {
    "colab": {
      "name": "Implementasi Ukuran Pemusatan Data Menggunakan Python.ipynb",
      "version": "0.3.2",
      "provenance": [],
      "include_colab_link": true
    },
    "kernelspec": {
      "name": "python3",
      "display_name": "Python 3"
    }
  },
  "cells": [
    {
      "cell_type": "markdown",
      "metadata": {
        "id": "view-in-github",
        "colab_type": "text"
      },
      "source": [
        "<a href=\"https://colab.research.google.com/github/mnindrazaka/StatistikaTerapan/blob/master/Implementasi_Ukuran_Pemusatan_Data_Menggunakan_Python.ipynb\" target=\"_parent\"><img src=\"https://colab.research.google.com/assets/colab-badge.svg\" alt=\"Open In Colab\"/></a>"
      ]
    },
    {
      "cell_type": "markdown",
      "metadata": {
        "id": "Px1s1FjrhJZK",
        "colab_type": "text"
      },
      "source": [
        "# Implementasi Ukuran Pemusatan Data Menggunakan Python\n",
        "\n",
        "## 1. Mean\n",
        "\n",
        "### 1.1 Manual"
      ]
    },
    {
      "cell_type": "code",
      "metadata": {
        "id": "hD59kipDjmwA",
        "colab_type": "code",
        "colab": {
          "base_uri": "https://localhost:8080/",
          "height": 35
        },
        "outputId": "a157db41-cffe-4188-cbc9-fc57e867566a"
      },
      "source": [
        "n_num = [1, 2, 3, 4, 5] \n",
        "n = len(n_num) \n",
        "  \n",
        "get_sum = sum(n_num) \n",
        "mean = get_sum / n \n",
        "  \n",
        "print(\"mean dari data tersebut adalah \" + str(mean)) "
      ],
      "execution_count": 16,
      "outputs": [
        {
          "output_type": "stream",
          "text": [
            "mean dari data tersebut adalah 3.0\n"
          ],
          "name": "stdout"
        }
      ]
    },
    {
      "cell_type": "markdown",
      "metadata": {
        "id": "_NE_j3Zcjpoy",
        "colab_type": "text"
      },
      "source": [
        "### 1.2 Menggunakan Library Statistics"
      ]
    },
    {
      "cell_type": "code",
      "metadata": {
        "id": "LK7JCZlRjs_T",
        "colab_type": "code",
        "colab": {
          "base_uri": "https://localhost:8080/",
          "height": 35
        },
        "outputId": "c382e63c-65f6-4e75-8af5-df199a500374"
      },
      "source": [
        "import statistics as stat\n",
        "\n",
        "data=[1, 2, 3, 4, 5]\n",
        "\n",
        "print(\"mean dari data tersebut adalah \", stat.mean(data))"
      ],
      "execution_count": 13,
      "outputs": [
        {
          "output_type": "stream",
          "text": [
            "mean dari data tersebut adalah  3\n"
          ],
          "name": "stdout"
        }
      ]
    },
    {
      "cell_type": "markdown",
      "metadata": {
        "id": "Ga0bpYwYjv4R",
        "colab_type": "text"
      },
      "source": [
        "## 2. Median\n",
        "\n",
        "### 2.1 Manual"
      ]
    },
    {
      "cell_type": "code",
      "metadata": {
        "id": "5jEE9oxgjyST",
        "colab_type": "code",
        "colab": {
          "base_uri": "https://localhost:8080/",
          "height": 35
        },
        "outputId": "b2218217-acc7-4066-d8b9-e44a6dcfc34f"
      },
      "source": [
        "n_num = [1, 2, 3, 4, 5] \n",
        "n = len(n_num) \n",
        "n_num.sort() \n",
        "  \n",
        "if n % 2 == 0: \n",
        "    median1 = n_num[n//2] \n",
        "    median2 = n_num[n//2 - 1] \n",
        "    median = (median1 + median2)/2\n",
        "else: \n",
        "    median = n_num[n//2] \n",
        "print(\"median dari data tersebut adalah \" + str(median)) "
      ],
      "execution_count": 3,
      "outputs": [
        {
          "output_type": "stream",
          "text": [
            "Median is: 3\n"
          ],
          "name": "stdout"
        }
      ]
    },
    {
      "cell_type": "markdown",
      "metadata": {
        "id": "qUBs8g_Qj0jM",
        "colab_type": "text"
      },
      "source": [
        "### 2.2 Menggunakan Library Statistics"
      ]
    },
    {
      "cell_type": "code",
      "metadata": {
        "id": "hEnrJl0HqWTF",
        "colab_type": "code",
        "colab": {
          "base_uri": "https://localhost:8080/",
          "height": 35
        },
        "outputId": "14efaf69-e0ad-4c9a-93c9-bed5c17a0717"
      },
      "source": [
        "import statistics as stat\n",
        "\n",
        "data=[1, 2, 3, 4, 5]\n",
        "\n",
        "print(\"median dari data tersebut adalah \", stat.median(data))"
      ],
      "execution_count": 9,
      "outputs": [
        {
          "output_type": "stream",
          "text": [
            "Median:  3.0\n"
          ],
          "name": "stdout"
        }
      ]
    },
    {
      "cell_type": "markdown",
      "metadata": {
        "id": "W7Ebzd7YqYA1",
        "colab_type": "text"
      },
      "source": [
        "## 3. Modus\n",
        "\n",
        "### 3.1 Manual\n",
        "\n"
      ]
    },
    {
      "cell_type": "code",
      "metadata": {
        "id": "ZzG2UIURqZ8G",
        "colab_type": "code",
        "colab": {
          "base_uri": "https://localhost:8080/",
          "height": 35
        },
        "outputId": "cee204b0-ebe7-4060-df9b-4c0ff0ea06ff"
      },
      "source": [
        "from collections import Counter \n",
        "  \n",
        "# list of elements to calculate mode \n",
        "n_num = [1, 2, 3, 4, 5, 5] \n",
        "n = len(n_num) \n",
        "  \n",
        "data = Counter(n_num) \n",
        "get_mode = dict(data) \n",
        "mode = [k for k, v in get_mode.items() if v == max(list(data.values()))] \n",
        "  \n",
        "if len(mode) == n: \n",
        "    get_mode = \"modus tidak ditemukan\"\n",
        "else: \n",
        "    get_mode = \"modus dari data tersebut adalah \" + ', '.join(map(str, mode)) \n",
        "      \n",
        "print(get_mode) "
      ],
      "execution_count": 17,
      "outputs": [
        {
          "output_type": "stream",
          "text": [
            "modus dari data tersebut adalah 5\n"
          ],
          "name": "stdout"
        }
      ]
    },
    {
      "cell_type": "markdown",
      "metadata": {
        "id": "WqJnzI20qadP",
        "colab_type": "text"
      },
      "source": [
        "### 3.2 Menggunakan Library Statistics"
      ]
    },
    {
      "cell_type": "code",
      "metadata": {
        "id": "6ImQ-nSyqbcW",
        "colab_type": "code",
        "colab": {
          "base_uri": "https://localhost:8080/",
          "height": 35
        },
        "outputId": "ac1e5e0a-820d-4e3e-dc14-e1cf2cda998b"
      },
      "source": [
        "import statistics as stat\n",
        "\n",
        "data=[1, 2, 3, 4, 5, 5]\n",
        "\n",
        "print(\"modus dari data tersebut adalah \", stat.mode(data))"
      ],
      "execution_count": 15,
      "outputs": [
        {
          "output_type": "stream",
          "text": [
            "modus dari data tersebut adalah  5\n"
          ],
          "name": "stdout"
        }
      ]
    }
  ]
}