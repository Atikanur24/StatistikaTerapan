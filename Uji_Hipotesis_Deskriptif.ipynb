{
  "nbformat": 4,
  "nbformat_minor": 0,
  "metadata": {
    "colab": {
      "name": "Uji Hipotesis Deskriptif.ipynb",
      "version": "0.3.2",
      "provenance": [],
      "collapsed_sections": [],
      "include_colab_link": true
    },
    "kernelspec": {
      "name": "python3",
      "display_name": "Python 3"
    }
  },
  "cells": [
    {
      "cell_type": "markdown",
      "metadata": {
        "id": "view-in-github",
        "colab_type": "text"
      },
      "source": [
        "<a href=\"https://colab.research.google.com/github/yogjay/StatistikaTerapan/blob/master/Uji_Hipotesis_Deskriptif.ipynb\" target=\"_parent\"><img src=\"https://colab.research.google.com/assets/colab-badge.svg\" alt=\"Open In Colab\"/></a>"
      ]
    },
    {
      "metadata": {
        "id": "Iv65B9wldDtT",
        "colab_type": "text"
      },
      "cell_type": "markdown",
      "source": [
        "# **PENGUJIAN HIPOTESIS DESKRIPTIF (SATU SAMPEL)**"
      ]
    },
    {
      "metadata": {
        "id": "DGhhGU1ZKO6s",
        "colab_type": "text"
      },
      "cell_type": "markdown",
      "source": [
        "##**Pendahuluan**"
      ]
    },
    {
      "metadata": {
        "id": "Gm5RlWjQdVyv",
        "colab_type": "text"
      },
      "cell_type": "markdown",
      "source": [
        "\n",
        "\n",
        "Pengujian hipotesis deskriptif pada dasarnya adalah proses pengujian generalisasi hasil penelitian yang didasarkan pada satu sampel. Kesimpulan yang dihasilkan nanti adalah apakah hipotesis yang diuji itu dapat digeneralisasikan atau tidak. Bila Ho diterima, maka dapat digeneralisasikan. Dalam pengujian ini variabel penelitiannya bersifat mandiri, sehingga hipotesis penelitian tidak berbentuk perbandingan ataupun hubungan antar dua variabel atau lebih."
      ]
    },
    {
      "metadata": {
        "id": "ATCb-QeAvVL0",
        "colab_type": "text"
      },
      "cell_type": "markdown",
      "source": [
        "Konsep uji hipotesis deskriptif dapat digambarkan seperti ini: <br>\n",
        "![Imgur](https://i.imgur.com/YU7Qo1c.png)\n"
      ]
    },
    {
      "metadata": {
        "id": "PILbIDPR335y",
        "colab_type": "text"
      },
      "cell_type": "markdown",
      "source": [
        "Dalam uji hipotesis deskriptif ini, ada beberapa ketentuan yang mempengaruhi jenis statistik yang digunakan. Bila data yang akan dianalisis berbentuk **interval atau ratio**, digunakan** statistik parametris**. Sedangkan, bila data berbentuk **nominal atau ordinal**, maka digunakan **statistik non parametris**."
      ]
    },
    {
      "metadata": {
        "id": "cLd7elLY3a-c",
        "colab_type": "text"
      },
      "cell_type": "markdown",
      "source": [
        "Berikut ini adalah teknik statistik yang digunakan berdasarkan jenis data:"
      ]
    },
    {
      "metadata": {
        "id": "Tzy5msXcPv42",
        "colab_type": "text"
      },
      "cell_type": "markdown",
      "source": [
        "| Jenis/Tingkatan Data | Teknik Statistik Yang Digunakan Untuk Pengujian |\n",
        "|----------------------|-------------------------------------------------|\n",
        "| Nominal              | Test Binomial<br> Chi Square (1 Sample)             |\n",
        "| Ordinal              | Run Test                                        |\n",
        "| Interval/ratio       | t-test (1 Sampel)<br> Z                               |"
      ]
    },
    {
      "metadata": {
        "id": "06py20FSwl9v",
        "colab_type": "text"
      },
      "cell_type": "markdown",
      "source": [
        "### **Diagram Alir Penggunaan Teknik Statistik** <br><br>\n",
        "![alt text](https://code2flow.com/qav2n5.png)"
      ]
    },
    {
      "metadata": {
        "id": "wqhaJ3yI3RtZ",
        "colab_type": "text"
      },
      "cell_type": "markdown",
      "source": [
        "##**Statistika Parametris**"
      ]
    },
    {
      "metadata": {
        "id": "bWuXjd1w3_pM",
        "colab_type": "text"
      },
      "cell_type": "markdown",
      "source": [
        "Statistik parametris adalah ilmu statistika yang mempertimbangkan jenis sebaran/distribusi data, yaitu apakah data menyebar normal atau tidak. Pada umumnya, Jika data tidak menyebar normal, maka data harus dikerjakan dengan metode Statistika non-parametris, atau setidaknya dilakukan transformasi agar data mengikuti sebaran normal, sehingga bisa dikerjakan dengan statistika parametris."
      ]
    },
    {
      "metadata": {
        "id": "ml2z0409LUAN",
        "colab_type": "text"
      },
      "cell_type": "markdown",
      "source": [
        "Statistik parametris yang dapat digunakan untuk menguji hipotesis deskriptif bila adanya interval atau rasio adalah t-test (1 sampel) dan Z. Rumus Z digunakan bila simpangan baku populasi diketahui, dan tumus t bila simpangan baku populasi tidak diketahui."
      ]
    },
    {
      "metadata": {
        "id": "AqFX0eAxmBt9",
        "colab_type": "text"
      },
      "cell_type": "markdown",
      "source": [
        "**Rumus yang digunakan untuk menguji hipotesis deskriptif (satu sampel) **yang datanya interval atau ratio adalah: \n",
        "<br>\n",
        "$\\large z=\\frac{(x - \\mu_{o})}{\\frac{\\sigma}{\\sqrt{n}}}$ <br>\n",
        "\n",
        "Keterangan:<br>\n",
        "\n",
        "z = nilai z yang dihitung selanjutnya disebut z hitung *(jika menggunakan t, maka disebut nilai t hitung)*<br>\n",
        "x = rata-rata x <br>\n",
        "$\\mu_{o}$ = nilai yang dihipotesiskan <br>\n",
        "$\\sigma$ = simpangan baku <br>\n",
        "n = jumlah anggota sampel<br>"
      ]
    },
    {
      "metadata": {
        "id": "XdxQtYCLorii",
        "colab_type": "text"
      },
      "cell_type": "markdown",
      "source": [
        "Untuk melakukan pengujian hipotesis deskriptif, langkah-langkah nya sama dengan yang telah dijelaskan pada konsep uji hipotesis pada bagian sebelumnya. Berikut ini adalah **langkah-langkah pada pengujian hipotesis deskriptif :**\n",
        "1.\tMenghitung rata-rata data.\n",
        "2.\tMenghitung simpangan baku.\n",
        "3.\tMenghitung harga z (atau t).\n",
        "4.\tMelihat harga z (atau t) tabel.\n",
        "5.\tMenggambar kurva.\n",
        "6.\tMeletakkan kedudukan z (atau t) hitung dan z (atau t) tabel dalam kurva yang telah dibuat.\n",
        "7.\tMembuat keputusan pengujian hipotesis.\n"
      ]
    },
    {
      "metadata": {
        "id": "IlAqpVkMqXpM",
        "colab_type": "text"
      },
      "cell_type": "markdown",
      "source": [
        "Terdapat dua macam pengujian hipotesis deskriptif, yaitu dengan uji dua fihak **(two tail test) **dan uji satu fihak **(one tail test)**. Uji satu fihak ada dua macam yaitu uji fihak kanan dan uji fihak kiri. **Jenis uji mana yang digunakan tergantung pada bunyi hipotesis**.\n"
      ]
    },
    {
      "metadata": {
        "id": "9JpukZYkq6JT",
        "colab_type": "text"
      },
      "cell_type": "markdown",
      "source": [
        "### **Uji dua fihak (two tail test)**"
      ]
    },
    {
      "metadata": {
        "id": "aKk5_Ss3rP0r",
        "colab_type": "text"
      },
      "cell_type": "markdown",
      "source": [
        "Disebut dengan uji dua fihak karena terdapat **dua** *region of rejection*, yakni terdapat dua daerah penolakan $H_{o}$. Uji dua fihak ini digunakan jika $H_{o}$ berbunyi: “… **sama dengan** …” dan $H_{a}$ berbunyi: “…**tidak sama dengan** …” <br>\n",
        "Contoh : <br>\n",
        "Pernyataan:<br>\n",
        "$H_{o}$: “Daya tahan berdiri pelayan toko tiap hari **sama dengan ** 8 jam” <br>\n",
        "$H_{a}$: “Daya tahan berdiri pelayan toko tiap hari **tidak sama dengan** 8 jam” <br>\n",
        "\n",
        "Hipotesisnya:<br>\n",
        "$H_{o}$: $\\mu =$  8 jam <br>\n",
        "$H_{a}$: $\\mu \\neq$  8 jam <br>\n",
        "\n",
        "Selanjutnya dilakukan perhitungan nilai z atau t sesuai dengan rumus yang telah dijelaskan sebelumnya. Setelah diperoleh nilai z atau t hitung, selanjutnya dibandingkan dengan nilai z tabel.\n",
        "\n",
        "$H_{o}$ diterima jika $\\large -z\\frac{\\alpha}{2}$ < $\\large z_{hitung}$ < $\\large z\\frac{\\alpha}{2}$ \n",
        "\n",
        "<br>\n",
        "**Daerah penerimaan hipotesis dalam kurva**<br>\n",
        "![alt text](https://cramster-image.s3.amazonaws.com/definitions/DC-2889V2.png) <br>\n",
        "Zona yang berwarna putih adalah zona penerimaan $H_{o}$, sedangkan zona yang berwarna merah adalah zona penolakan $H_{o}$."
      ]
    },
    {
      "metadata": {
        "id": "dUNC5FI3aGpR",
        "colab_type": "text"
      },
      "cell_type": "markdown",
      "source": [
        "### **Uji satu fihak (one tail test)**"
      ]
    },
    {
      "metadata": {
        "id": "yHUIo01KaNAP",
        "colab_type": "text"
      },
      "cell_type": "markdown",
      "source": [
        "Disebut dengan uji satu fihak karena terdapat **satu** *region of rejection*, yakni hanya terdapat satu daerah penolakan $H_{o}$. Uji satu fihak dibagi menjadi dua, yakni uji satu fihak kanan dan uji satu fihak kiri. \n"
      ]
    },
    {
      "metadata": {
        "id": "W5mrnQ8jqoLD",
        "colab_type": "text"
      },
      "cell_type": "markdown",
      "source": [
        "**Uji satu fihak kanan** digunakan jika <br>\n",
        "$H_{o}$ = “**… lebih kecil atau sama dengan ( $\\leq$ )…**”<br>\n",
        "$H_{a}$ = “**… lebih besar ( $>$ )…**”<br>\n",
        "Contoh:<br>\n",
        "Pernyataan:<br>\n",
        "$H_{o}$ : “Pasien Poli KIA dalam sehari **lebih kecil dan sama dengan** 20 orang”<br>\n",
        "$H_{a}$ : “Pasien Poli KIA dalam sehari **lebih besar** 20 orang”<br>\n",
        "Hipotesisnya:<br>\n",
        "$H_{o}$ : $\\mu \\leq$ 20<br>\n",
        "$H_{a}$ : $\\mu >$ 20\n",
        "<br>\n",
        "\n",
        "Selanjutnya dilakukan perhitungan nilai z atau t sesuai dengan rumus yang telah dijelaskan sebelumnya. Setelah diperoleh nilai z atau t hitung, selanjutnya dibandingkan dengan nilai z tabel."
      ]
    },
    {
      "metadata": {
        "id": "LOUK7id6vLWk",
        "colab_type": "text"
      },
      "cell_type": "markdown",
      "source": [
        "**Daerah Penerimaan Hipotesis dalam Kurva**<br>\n",
        "\n",
        "![alt text](https://nptel.ac.in/courses/105103027/module8/images/img1.png)"
      ]
    },
    {
      "metadata": {
        "id": "duj28CzptKH1",
        "colab_type": "text"
      },
      "cell_type": "markdown",
      "source": [
        "**Uji satu fihak kiri** digunakan jika <br>\n",
        "$H_{o}$ = “**… lebih besar atau sama dengan ( $\\geq$ )…**”<br>\n",
        "$H_{a}$ = “**… lebih kecil ( $<$ )…**”<br>\n",
        "Contoh:<br>\n",
        "Pernyataan:<br>\n",
        "$H_{o}$ : “Daya tahan bidan berdiri **lebih besar dan sama dengan** 2 jam”<br>\n",
        "$H_{a}$ : “Daya tahan bidan berdiri  **lebih kecil dari** 2 jam”<br>\n",
        "Hipotesisnya:<br>\n",
        "$H_{o}$ : $\\mu \\geq$ 2 jam<br>\n",
        "$H_{a}$ : $\\mu <$ 2 jam\n",
        "<br>\n",
        "\n",
        "Selanjutnya dilakukan perhitungan nilai z atau t sesuai dengan rumus yang telah dijelaskan sebelumnya. Setelah diperoleh nilai z atau t hitung, selanjutnya dibandingkan dengan nilai z tabel."
      ]
    },
    {
      "metadata": {
        "id": "bTZdzfNZvoNv",
        "colab_type": "text"
      },
      "cell_type": "markdown",
      "source": [
        "**Daerah Penerimaan Hipotesis dalam Kurva** <br>\n",
        "![alt text](https://nptel.ac.in/courses/105103027/module7/images/img2.png)"
      ]
    },
    {
      "metadata": {
        "id": "6K-o7tfvAIBK",
        "colab_type": "text"
      },
      "cell_type": "markdown",
      "source": [
        "## **Statistika Non-Parametris**"
      ]
    },
    {
      "metadata": {
        "id": "Yf_bh562ApyB",
        "colab_type": "text"
      },
      "cell_type": "markdown",
      "source": [
        "Statistik non-parametris adalah statistika bebas sebaran (tdk mensyaratkan bentuk sebaran parameter populasi, baik normal atau tidak). Statistika **non-parametrik** biasanya digunakan untuk melakukan analisis pada **data berjenis Nominal atau Ordinal**. Data berjenis Nominal dan Ordinal tidak menyebar normal. \n"
      ]
    },
    {
      "metadata": {
        "id": "VjED8YxTYpoo",
        "colab_type": "text"
      },
      "cell_type": "markdown",
      "source": [
        "## **Binomial test**"
      ]
    },
    {
      "metadata": {
        "id": "zuraEvW5Zv56",
        "colab_type": "text"
      },
      "cell_type": "markdown",
      "source": [
        "Test Binomial digunakan untuk menguji hipotesis bila dalam populasi terdiri atas dua kelompok kelas, datanya berbentuk nominal dan **jumlah sampelnya kecil **(kurang dari 25). Dua kelompok kelas itu misalnya kelas pria dan wanita, senior dan yunior,dll. <br>\n",
        "\n",
        "Tes ini dikatakan sebagai test Binomial, karena distribusi data dalam populasi itu berbentuk binomial. Distribusi binomial adalah distribusi yang terdiri dari 2 klas. Jadi, bila dalam satu populasi dengan jumlah N, terdapat 1 kelas yang berkategori x, maka kategori yang lain adalah  N-x. <br>\n",
        "\n",
        "Dapat disimpulkan bahwa syarat test binomial adalah:\n",
        "*   Populasi terdiri 2 klas (misal: pria dan wanita)\n",
        "*   Data Nominal\n",
        "*   Jumlah sampel kecil (<25)\n",
        "*   Distribusi data Binomial (terdiri 2 kelas): kelas dengan kategori (x) dan kelas dengan ketegori (N-x)\n",
        "\n",
        "\n",
        "\n",
        "\n",
        "\n",
        "\n",
        "\n"
      ]
    },
    {
      "metadata": {
        "id": "sCF21yxpnkPZ",
        "colab_type": "text"
      },
      "cell_type": "markdown",
      "source": [
        "Probabilitas untuk memperoleh x objek dalam satu kategori dan N - x dalam kategori lain adalah:\n",
        "\n",
        "<br>\n",
        "$P^{x}=\\left(\\begin{array}{c}N\\\\ x\\end{array}\\right) p^{x} q^{N-x}$\n",
        "\n",
        "<br>\n",
        "\n",
        "Dimana P adalah proporsi kasus yang diharapkan dalam salah satu kategori dan kategori lainnya adalah q, besar q adalah 1 - p.\n",
        "<br>\n",
        "Harga $\\left(\\begin{array}{c}N\\\\ x\\end{array}\\right)$ dalam rumus di atas dapat dihitung dengan rumus:\n",
        "\n",
        "<br>\n",
        "$\\left(\\begin{array}{c}N\\\\ x\\end{array}\\right) = \\large \\frac{N!}{x!(N - x)!}$\n",
        "<br>\n",
        "\n",
        "$N!$ adalah N faktorial, yang nilainya = N (N -1) (N-2) (N-(N-1)). Misal 4! = 4(4-1)(4-2)(4-3) = 24\n"
      ]
    },
    {
      "metadata": {
        "id": "NEFvrlQeP0av",
        "colab_type": "text"
      },
      "cell_type": "markdown",
      "source": [
        "**Contoh :** <br>\n",
        "Penelitian tentang kecenderungan Bumil memilih tempat bersalin di Polindes atau di Puskesmas. Jumlah sampel 24 Bumil, 14 Bumil memilih di Polindes, 10 Bumil memilih di Puskesmas.\n",
        "<br>\n",
        "**Penyelesaian :**<br>\n",
        "Ho = peluang Bumil memilih tempat bersalin di Polindes atau Puskesmas adalah sama, yaitu 50%\n",
        "Ho = p1 = p2 = 0,5\n",
        "Sampel (n) = 24\n",
        "Frekuensi kelas terkecil (x) = 10\n",
        "Tabel (n=24, x=10)  koefisien binomial (p) = 0,271\n",
        "\n",
        "Bila taraf kesalahan (α) ditetapkan 1% = 0,01\n",
        "p = 0,271 > 0,01  Ho diterima\n",
        "Kesimpulan: kemungkinan Bumil memilih tempat bersalin di Polindes atau di Puskesmas adalah sama yaitu 50 %."
      ]
    }
  ]
}