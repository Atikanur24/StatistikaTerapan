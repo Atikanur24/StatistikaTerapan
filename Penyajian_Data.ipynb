{
  "nbformat": 4,
  "nbformat_minor": 0,
  "metadata": {
    "colab": {
      "name": "Penyajian Data.ipynb",
      "version": "0.3.2",
      "provenance": [],
      "collapsed_sections": [
        "n5rbur52-tUT"
      ],
      "include_colab_link": true
    },
    "kernelspec": {
      "name": "python3",
      "display_name": "Python 3"
    }
  },
  "cells": [
    {
      "cell_type": "markdown",
      "metadata": {
        "id": "view-in-github",
        "colab_type": "text"
      },
      "source": [
        "<a href=\"https://colab.research.google.com/github/yogjay/StatistikaTerapan/blob/master/Penyajian_Data.ipynb\" target=\"_parent\"><img src=\"https://colab.research.google.com/assets/colab-badge.svg\" alt=\"Open In Colab\"/></a>"
      ]
    },
    {
      "metadata": {
        "id": "kU65IxkAxAwP",
        "colab_type": "code",
        "colab": {}
      },
      "cell_type": "code",
      "source": [
        ""
      ],
      "execution_count": 0,
      "outputs": []
    },
    {
      "metadata": {
        "id": "PM9BCIy50J_O",
        "colab_type": "text"
      },
      "cell_type": "markdown",
      "source": [
        "# **PENYAJIAN DATA**"
      ]
    },
    {
      "metadata": {
        "id": "YDJFHNWx0RFR",
        "colab_type": "text"
      },
      "cell_type": "markdown",
      "source": [
        "Salah satu pembahasan dalam statistika deskriptif adalah teknik penyajian data. Data yang sudah kita kumpulkan dan sudah kita peroleh seyogyanya terorganisasi dengan baik, sehingga dapat disajikan dengan baik pula. Data yang tersaji dengan baik dapat dipahami dan bermakna bagi pengguna."
      ]
    },
    {
      "metadata": {
        "id": "IZFttHZ03MQl",
        "colab_type": "text"
      },
      "cell_type": "markdown",
      "source": [
        "Jika data yang sudah diperoleh jumlahnya sangat banyak, maka cara yang baik untuk menganalisa nya adalah dengan mengorganisasi dan menyajikan data tersebut dalam bentuk yang ringkas dan padat. Sehingga membuat pengguna mudah dan cepat dalam membaca data tersebut. Organisasi data adalah proses penyusunan data di dalam kelompok atau kelas berdasarkan ciri-ciri terttentu. Berikut ini adalah tujuan organisasi data:\n",
        "1.   Meringkas data mentah untuk tujuan analisis statistika\n",
        "2.   Mengurangi maslah kompleksitas data dan menyajikan sifat-sifat data\n",
        "3.   Memudahkan untuk perbandingan dan membuat kesimpulan tentang data\n",
        "4.   Menyediakan informasi tentang hubungan antara elemen di dalam sekelompok data\n",
        "5.   Memudahkan kita dalam memisahkan elemen data ke dalam kelompok yang sama dan kemudian bisa mengelompokkan berdasarkan kesamaan dan ketidaksamaan elemen tersebut\n",
        "\n",
        "(Agus Widarjono)\n",
        "\n",
        "\n",
        "\n",
        "\n",
        "\n",
        "\n",
        "\n"
      ]
    },
    {
      "metadata": {
        "id": "k-tzjowc8Rjs",
        "colab_type": "text"
      },
      "cell_type": "markdown",
      "source": [
        "Data disajikan dalam 2 bentuk, yakni:\n",
        "\n",
        "1.   Tabulasi\n",
        "2.   Grafis\n",
        "\n"
      ]
    },
    {
      "metadata": {
        "id": "2D59ErA88de7",
        "colab_type": "text"
      },
      "cell_type": "markdown",
      "source": [
        "## **Tabulasi**"
      ]
    },
    {
      "metadata": {
        "id": "OGPkABXQ8iZI",
        "colab_type": "text"
      },
      "cell_type": "markdown",
      "source": [
        "Penyajian data dalam bentuk tabulasi adalah penyajian data kedalam bentuk tabel. Sebelum membahas tentang penyajiannya, maka yang perlu dibahas adalah bagaimana cara untuk mengorganisasi data. Salah satu teknik yang digunakan untuk mengorganisasi data adalah distribusi frekuensi (*frequency distribution*)."
      ]
    },
    {
      "metadata": {
        "id": "n5rbur52-tUT",
        "colab_type": "text"
      },
      "cell_type": "markdown",
      "source": [
        "### **Distribusi Frekuensi**"
      ]
    },
    {
      "metadata": {
        "id": "8d8KgSK4-yJj",
        "colab_type": "text"
      },
      "cell_type": "markdown",
      "source": [
        "Untuk membentuk distribusi frekuensi akan dijelaskan dengan contoh berikut. Terdapat data nilai ujian dari 150 mahasiswa,\n",
        "\n",
        "<table width=100%>\t\t\t\t\t\t\t\t\t\t\t\t\t\t\t\t\t\t\t\t\t\n",
        "<tr>\t\t\t\t\t\t\t\t\t\t\t\t\t\t\t\t\t\t\t\t\t\n",
        "<td>\t27\t</td><td>\t79\t</td><td>\t69\t</td><td>\t40\t</td><td>\t51\t</td><td>\t88\t</td><td>\t55\t</td><td>\t48\t</td><td>\t36\t</td><td>\t61\t</td>\t</tr><tr>\n",
        "<td>\t53\t</td><td>\t44\t</td><td>\t93\t</td><td>\t51\t</td><td>\t65\t</td><td>\t42\t</td><td>\t58\t</td><td>\t55\t</td><td>\t69\t</td><td>\t63\t</td>\t</tr><tr>\n",
        "<td>\t70\t</td><td>\t48\t</td><td>\t61\t</td><td>\t55\t</td><td>\t60\t</td><td>\t25\t</td><td>\t47\t</td><td>\t78\t</td><td>\t61\t</td><td>\t54\t</td>\t</tr><tr>\n",
        "<td>\t57\t</td><td>\t76\t</td><td>\t73\t</td><td>\t62\t</td><td>\t36\t</td><td>\t67\t</td><td>\t40\t</td><td>\t51\t</td><td>\t59\t</td><td>\t68\t</td>\t</tr><tr>\n",
        "<td>\t27\t</td><td>\t46\t</td><td>\t62\t</td><td>\t43\t</td><td>\t54\t</td><td>\t83\t</td><td>\t59\t</td><td>\t13\t</td><td>\t72\t</td><td>\t57\t</td>\t</tr><tr>\n",
        "<td>\t82\t</td><td>\t45\t</td><td>\t54\t</td><td>\t52\t</td><td>\t71\t</td><td>\t53\t</td><td>\t82\t</td><td>\t69\t</td><td>\t60\t</td><td>\t35\t</td>\t</tr><tr>\n",
        "<td>\t41\t</td><td>\t65\t</td><td>\t62\t</td><td>\t75\t</td><td>\t60\t</td><td>\t42\t</td><td>\t55\t</td><td>\t34\t</td><td>\t49\t</td><td>\t45\t</td>\t</tr><tr>\n",
        "<td>\t49\t</td><td>\t64\t</td><td>\t40\t</td><td>\t61\t</td><td>\t73\t</td><td>\t44\t</td><td>\t59\t</td><td>\t46\t</td><td>\t71\t</td><td>\t86\t</td>\t</tr><tr>\n",
        "<td>\t43\t</td><td>\t69\t</td><td>\t54\t</td><td>\t31\t</td><td>\t36\t</td><td>\t51\t</td><td>\t75\t</td><td>\t44\t</td><td>\t66\t</td><td>\t53\t</td>\t</tr><tr>\n",
        "<td>\t80\t</td><td>\t71\t</td><td>\t53\t</td><td>\t56\t</td><td>\t91\t</td><td>\t60\t</td><td>\t41\t</td><td>\t29\t</td><td>\t56\t</td><td>\t57\t</td>\t</tr><tr>\n",
        "<td>\t35\t</td><td>\t54\t</td><td>\t43\t</td><td>\t39\t</td><td>\t56\t</td><td>\t27\t</td><td>\t62\t</td><td>\t44\t</td><td>\t85\t</td><td>\t61\t</td>\t</tr><tr>\n",
        "<td>\t59\t</td><td>\t89\t</td><td>\t60\t</td><td>\t51\t</td><td>\t71\t</td><td>\t53\t</td><td>\t58\t</td><td>\t26\t</td><td>\t77\t</td><td>\t68\t</td>\t</tr><tr>\n",
        "<td>\t62\t</td><td>\t57\t</td><td>\t48\t</td><td>\t69\t</td><td>\t76\t</td><td>\t52\t</td><td>\t49\t</td><td>\t45\t</td><td>\t54\t</td><td>\t41\t</td>\t</tr><tr>\n",
        "<td>\t33\t</td><td>\t61\t</td><td>\t80\t</td><td>\t57\t</td><td>\t42\t</td><td>\t45\t</td><td>\t59\t</td><td>\t44\t</td><td>\t68\t</td><td>\t73\t</td>\t</tr><tr>\n",
        "<td>\t55\t</td><td>\t70\t</td><td>\t39\t</td><td>\t59\t</td><td>\t69\t</td><td>\t51\t</td><td>\t85\t</td><td>\t46\t</td><td>\t55\t</td><td>\t67\t</td>\t</tr>\n",
        "</table>\t\t\t\t\t\t\t\t\t\t\t\t\t\t\t\t\t\t\t\t\t\n",
        "<br>\n",
        "Berikut ini adalah langkah-langkah dalam membentuk distribusi frekuensi: <br>\n",
        "**1. Menentukan Jumlah Kelas Interval**<br>\n",
        "Untuk menentukan kelas interval (K), gunakan persamaan ini:<br>\n",
        "$K=1+3,3 \\log_{}{n}$ <br>\n",
        "Sesuai contoh kasus di atas, maka $K=1+3,3 \\log_{}{150}$ = 1+ 3,3 . 2,18 = 8,19<br>\n",
        "Jadi jumlah kelas interval 8 atau 9. Pada kesempatan ini digunakan 9 kelas.\n",
        "<br>\n",
        "\n",
        "**2. Menghitung Rentang Data**<br>\n",
        "Untuk menghitung rentang data, caranya adalah data terbesar dikurangi data terkecil kemudian ditambah 1. Data terbesar adalah 93, dan data terkecil adalah 13. <br>Jadi 93-13+1 = 81<br>\n",
        "\n",
        "**3. Menghitung Panjang Kelas**<br>\n",
        "Untuk menghitung Panjang Kelas, caranya adalah **Rentang Data dibagi Jumlah Kelas Interval** sehingga: 81 / 9 = 9. Walaupun dari hitungan panjang kelas yang diperoleh adalah 9, tetapi pada penyusunan tabel ini digunakan panjang kelas 10. Supaya nilai batas bawah semua berakhir nol dan batas atas 9. Hal ini akan lebih komunikatif bila dibandingkan dengan menggunkan panjang kelas 9.<br>\n",
        "\n",
        "**4. Menyusun Interval Kelas**<br>\n",
        "Secara teoritis penyusunan kelas interval dimulai dari data yang terkecil, yakni 13. Tetapi agar lebih kominikatif, maka dimulai dengan angka 10. <br>\n",
        "\n",
        "**5. Menghitung Frekuensi Menggunakan Tally**<br>\n",
        "Setelah Kelas Interval tersusun, selanjutnya memasukkan data satu per satu mulai awal hingga akhir sesuai Kelas Intervalnya, yakni dengan menandai menggunakan Tally. Misalnya apabila bertemu data 13, maka pada Kelas Interval ke-1 diberi Tally, jika bertemu data 72 maka pada Kelas Interval ke-7 diberi Tally. Begitu seterusnya sampai 150 data. Sehingga diperoleh data seperti tabel di bawah ini. Apabila semua data telah dimasukkan, kolom Tally bisa dihapus. \n",
        "\n",
        "<table width=100%>\t\t\t\t\t\t\t\t\t\n",
        "<tr>\t\t\t\t\t\t\t\t\t\n",
        "<td>\t**No. Kelas**\t</td><td>\t**Kelas Interval**\t</td><td>\t**Tally**\t</td><td>\t**Frekuensi (f)**\t</td>\t</tr><tr>\n",
        "<td>\t1\t</td><td>\t10 -- 19\t</td><td>\t|\t</td><td>\t1\t</td>\t</tr><tr>\n",
        "<td>\t2\t</td><td>\t20 -- 29\t</td><td>\t<s>||||</s> |\t</td><td>\t6\t</td>\t</tr><tr>\n",
        "<td>\t3\t</td><td>\t30 -- 39\t</td><td>\t<s>||||</s> ||||\t</td><td>\t9\t</td>\t</tr><tr>\n",
        "<td>\t4\t</td><td>\t40 -- 49\t</td><td>\t<s>||||</s> <s>||||</s> <s>||||</s> <s>||||</s> <s>||||</s> <s>||||</s> |\t</td><td>\t31\t</td>\t</tr><tr>\n",
        "<td>\t5\t</td><td>\t50 -- 59\t</td><td>\t<s>||||</s> <s>||||</s> <s>||||</s> <s>||||</s> <s>||||</s> <s>||||</s> <s>||||</s> <s>||||</s> ||\t</td><td>\t42\t</td>\t</tr><tr>\n",
        "<td>\t6\t</td><td>\t60 -- 69\t</td><td>\t<s>||||</s> <s>||||</s> <s>||||</s> <s>||||</s> <s>||||</s> <s>||||</s> ||\t</td><td>\t32\t</td>\t</tr><tr>\n",
        "<td>\t7\t</td><td>\t70 -- 79\t</td><td>\t<s>||||</s> <s>||||</s> <s>||||</s> ||\t</td><td>\t17\t</td>\t</tr><tr>\n",
        "<td>\t8\t</td><td>\t80 -- 89\t</td><td>\t<s>||||</s> <s>||||</s>\t</td><td>\t10\t</td>\t</tr><tr>\n",
        "<td>\t9\t</td><td>\t90 -- 99\t</td><td>\t||\t</td><td>\t2\t</td>\t</tr>\n",
        "</table>\t\n",
        "<br>\n",
        "\n",
        "\n",
        "\n",
        "\n",
        "\n",
        "\n",
        "\n"
      ]
    },
    {
      "metadata": {
        "id": "BWfAkhf_y_oP",
        "colab_type": "text"
      },
      "cell_type": "markdown",
      "source": [
        "## **Grafis**"
      ]
    },
    {
      "metadata": {
        "id": "dJ3UuoAZzlya",
        "colab_type": "text"
      },
      "cell_type": "markdown",
      "source": [
        "Selain tabel, data disajikan dalam bentuk grafis. Dalam penyajian grafis ini, data disajikan dalam bentuk gambar. Terdapat dua macam penyajian grafis, yakni dalam bentuk grafik dan diagram.<br>\n",
        "\n",
        "\n",
        "1.   **Grafik** - digunakan untuk meyajikan data yang menunjukkan hubungan 2 variabel. Misalnya hubungan variabel jumlah dan variabel waktu.\n",
        "2.   **Diagram** - digunakan untuk menunjukkan perbandingan data dari berbagai kelompok, biasanya disajikan dalam bentuk perbandingan persentase.\n",
        "\n"
      ]
    },
    {
      "metadata": {
        "id": "4EfrQRzLzGdE",
        "colab_type": "text"
      },
      "cell_type": "markdown",
      "source": [
        "###**Grafik Garis**"
      ]
    },
    {
      "metadata": {
        "id": "Z91hlneO3YAa",
        "colab_type": "text"
      },
      "cell_type": "markdown",
      "source": [
        "![alt text](https://files.dafacto.com/uploads/better-20110401-125648.png)"
      ]
    },
    {
      "metadata": {
        "id": "QuxsBIjFzUQx",
        "colab_type": "text"
      },
      "cell_type": "markdown",
      "source": [
        "### **Diagram Batang**"
      ]
    },
    {
      "metadata": {
        "id": "7S3IWRTy3bPQ",
        "colab_type": "text"
      },
      "cell_type": "markdown",
      "source": [
        "![alt text](https://files.dafacto.com/uploads/original-20110401-130553.png)"
      ]
    },
    {
      "metadata": {
        "id": "Tj8NP9KCzYNR",
        "colab_type": "text"
      },
      "cell_type": "markdown",
      "source": [
        "### **Diagram Lingkaran**"
      ]
    },
    {
      "metadata": {
        "id": "gW3kpJCQ3_PJ",
        "colab_type": "text"
      },
      "cell_type": "markdown",
      "source": [
        "![alt text](https://kevinanderson.nl/wp-content/uploads/2015/01/smartphone-activations.jpg)"
      ]
    }
  ]
}