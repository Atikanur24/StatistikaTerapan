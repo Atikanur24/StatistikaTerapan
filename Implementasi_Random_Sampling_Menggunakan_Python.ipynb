{
  "nbformat": 4,
  "nbformat_minor": 0,
  "metadata": {
    "colab": {
      "name": "Implementasi Random Sampling Menggunakan Python.ipynb",
      "version": "0.3.2",
      "provenance": [],
      "include_colab_link": true
    },
    "kernelspec": {
      "name": "python3",
      "display_name": "Python 3"
    }
  },
  "cells": [
    {
      "cell_type": "markdown",
      "metadata": {
        "id": "view-in-github",
        "colab_type": "text"
      },
      "source": [
        "<a href=\"https://colab.research.google.com/github/mnindrazaka/StatistikaTerapan/blob/implementasi-random-sampling/Implementasi_Random_Sampling_Menggunakan_Python.ipynb\" target=\"_parent\"><img src=\"https://colab.research.google.com/assets/colab-badge.svg\" alt=\"Open In Colab\"/></a>"
      ]
    },
    {
      "cell_type": "markdown",
      "metadata": {
        "id": "ccpd3d9NSRT4",
        "colab_type": "text"
      },
      "source": [
        "# Implementasi Random Sampling Menggunakan Python\n",
        "\n",
        "## 1. Random Sampling Pada List\n",
        "\n",
        "### 1.1 Tanpa Redudansi"
      ]
    },
    {
      "cell_type": "code",
      "metadata": {
        "id": "wt8Gm7FNSfIY",
        "colab_type": "code",
        "colab": {
          "base_uri": "https://localhost:8080/",
          "height": 35
        },
        "outputId": "fd05f6d7-16e7-4364-9234-8074f9ee817e"
      },
      "source": [
        "import random\n",
        "\n",
        "data = [1, 2, 3, 4, 5]\n",
        "print(\"3 data terpilih untuk dijadikan sampel adalah : \", random.sample(data, k=3))"
      ],
      "execution_count": 3,
      "outputs": [
        {
          "output_type": "stream",
          "text": [
            "3 data terpilih untuk dijadikan sampel adalah :  [5, 1, 3]\n"
          ],
          "name": "stdout"
        }
      ]
    },
    {
      "cell_type": "markdown",
      "metadata": {
        "id": "CIK30JLPTIoP",
        "colab_type": "text"
      },
      "source": [
        "### 1.2 Dengan Redudansi"
      ]
    },
    {
      "cell_type": "code",
      "metadata": {
        "id": "LcFwBpj_TVAL",
        "colab_type": "code",
        "colab": {
          "base_uri": "https://localhost:8080/",
          "height": 35
        },
        "outputId": "c6e1626a-0ecc-4809-f02a-98b815ab5197"
      },
      "source": [
        "import random\n",
        "\n",
        "data = [1, 2, 3, 4, 5]\n",
        "print(\"3 data terpilih untuk dijadikan sampel adalah : \", random.choices(data, k=3))"
      ],
      "execution_count": 9,
      "outputs": [
        {
          "output_type": "stream",
          "text": [
            "3 data terpilih untuk dijadikan sampel adalah :  [2, 2, 2]\n"
          ],
          "name": "stdout"
        }
      ]
    },
    {
      "cell_type": "markdown",
      "metadata": {
        "id": "PZuuyaAjUOU2",
        "colab_type": "text"
      },
      "source": [
        "### 1.3 Nested List"
      ]
    },
    {
      "cell_type": "code",
      "metadata": {
        "id": "EHOeEbTIUSNO",
        "colab_type": "code",
        "colab": {
          "base_uri": "https://localhost:8080/",
          "height": 89
        },
        "outputId": "445be34c-8964-4de3-ed55-9a78626b0dd7"
      },
      "source": [
        "import random\n",
        "import numpy\n",
        "\n",
        "data = numpy.array([\n",
        "    [1, 2, 3],\n",
        "    [4, 5, 6],\n",
        "    [7, 8, 9],\n",
        "    [10, 11, 12],\n",
        "    [13, 14, 15],\n",
        "    [16, 17, 18]\n",
        "])\n",
        "\n",
        "randomData = numpy.random.randint(6, size=3)\n",
        "\n",
        "print(\"3 data terpilih untuk dijadikan sampel adalah : \")\n",
        "for i in randomData:\n",
        "  print(data[i])"
      ],
      "execution_count": 16,
      "outputs": [
        {
          "output_type": "stream",
          "text": [
            "3 data terpilih untuk dijadikan sampel adalah : \n",
            "[13 14 15]\n",
            "[7 8 9]\n",
            "[16 17 18]\n"
          ],
          "name": "stdout"
        }
      ]
    },
    {
      "cell_type": "markdown",
      "metadata": {
        "id": "_lQGrv7YSgIr",
        "colab_type": "text"
      },
      "source": [
        "## 2. Random Sampling Pada Set\n",
        "\n",
        "### 2.1 Tanpa Redudansi"
      ]
    },
    {
      "cell_type": "code",
      "metadata": {
        "id": "BzrfXelASl8X",
        "colab_type": "code",
        "colab": {
          "base_uri": "https://localhost:8080/",
          "height": 35
        },
        "outputId": "50e10b7b-41a7-43a1-90ad-1fee88fc3a06"
      },
      "source": [
        "import random\n",
        "\n",
        "data = {1, 2, 3, 4, 5}\n",
        "print(\"3 data terpilih untuk dijadikan sampel adalah : \", random.sample(data, k=3))"
      ],
      "execution_count": 17,
      "outputs": [
        {
          "output_type": "stream",
          "text": [
            "3 data terpilih untuk dijadikan sampel adalah :  [2, 3, 5]\n"
          ],
          "name": "stdout"
        }
      ]
    },
    {
      "cell_type": "markdown",
      "metadata": {
        "id": "56wTMbDVSmlh",
        "colab_type": "text"
      },
      "source": [
        "## 3. Random Sampling Pada Dictionary"
      ]
    },
    {
      "cell_type": "markdown",
      "metadata": {
        "id": "bGP0FPx5Tjxm",
        "colab_type": "text"
      },
      "source": [
        "### 3.1 Tanpa Redudansi"
      ]
    },
    {
      "cell_type": "code",
      "metadata": {
        "id": "Uy9m2UTOS3qn",
        "colab_type": "code",
        "colab": {
          "base_uri": "https://localhost:8080/",
          "height": 35
        },
        "outputId": "80c12117-e5fe-4a65-bb78-9d5bf3291057"
      },
      "source": [
        "import random\n",
        "\n",
        "data = {\n",
        "    \"aka\": 1,\n",
        "    \"fany\": 2,\n",
        "    \"berlian\": 3,\n",
        "    \"brilian\": 4,\n",
        "    \"dirga\": 5\n",
        "}\n",
        "print(\"3 data terpilih untuk dijadikan sampel adalah : \", random.sample(data.items(), k=3))"
      ],
      "execution_count": 22,
      "outputs": [
        {
          "output_type": "stream",
          "text": [
            "3 data terpilih untuk dijadikan sampel adalah :  [('brilian', 4), ('dirga', 5), ('aka', 1)]\n"
          ],
          "name": "stdout"
        }
      ]
    }
  ]
}